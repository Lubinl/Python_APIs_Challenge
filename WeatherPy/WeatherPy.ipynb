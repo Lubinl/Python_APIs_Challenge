{
 "cells": [
  {
   "cell_type": "markdown",
   "metadata": {},
   "source": [
    "# WeatherPy\n",
    "----\n",
    "\n",
    "#### Note\n",
    "* Instructions have been included for each segment. You do not have to follow them exactly, but they are included to help you think through the steps."
   ]
  },
  {
   "cell_type": "code",
   "execution_count": 1,
   "metadata": {
    "scrolled": true
   },
   "outputs": [],
   "source": [
    "# Dependencies and Setup\n",
    "import matplotlib.pyplot as plt\n",
    "import pandas as pd\n",
    "import numpy as np\n",
    "import requests\n",
    "import time\n",
    "from scipy.stats import linregress\n",
    "import json\n",
    "\n",
    "# Import API key\n",
    "from Weather_API import weather_api_key\n",
    "\n",
    "# Incorporated citipy to determine city based on latitude and longitude\n",
    "from citipy import citipy\n",
    "\n",
    "# Output File (CSV)\n",
    "output_data_file = \"Python_APIs_Challenge/output_data/cities.csv\"\n",
    "\n",
    "# Range of latitudes and longitudes\n",
    "lat_range = (-90, 90)\n",
    "lng_range = (-180, 180)"
   ]
  },
  {
   "cell_type": "markdown",
   "metadata": {},
   "source": [
    "## Generate Cities List"
   ]
  },
  {
   "cell_type": "code",
   "execution_count": 2,
   "metadata": {},
   "outputs": [
    {
     "data": {
      "text/plain": [
       "607"
      ]
     },
     "execution_count": 2,
     "metadata": {},
     "output_type": "execute_result"
    }
   ],
   "source": [
    "# List for holding lat_lngs and cities\n",
    "lat_lngs = []\n",
    "cities = []\n",
    "\n",
    "# Create a set of random lat and lng combinations\n",
    "lats = np.random.uniform(lat_range[0], lat_range[1], size=1500)\n",
    "lngs = np.random.uniform(lng_range[0], lng_range[1], size=1500)\n",
    "lat_lngs = zip(lats, lngs)\n",
    "\n",
    "# Identify nearest city for each lat, lng combination\n",
    "for lat_lng in lat_lngs:\n",
    "    city = citipy.nearest_city(lat_lng[0], lat_lng[1]).city_name\n",
    "    \n",
    "    # If the city is unique, then add it to a our cities list\n",
    "    if city not in cities:\n",
    "        cities.append(city)\n",
    "\n",
    "# Print the city count to confirm sufficient count\n",
    "len(cities)"
   ]
  },
  {
   "cell_type": "markdown",
   "metadata": {},
   "source": [
    "### Perform API Calls\n",
    "* Perform a weather check on each city using a series of successive API calls.\n",
    "* Include a print log of each city as it'sbeing processed (with the city number and city name).\n"
   ]
  },
  {
   "cell_type": "code",
   "execution_count": 3,
   "metadata": {},
   "outputs": [],
   "source": [
    "# Save config information.\n",
    "url = \"http://api.openweathermap.org/data/2.5/weather?\""
   ]
  },
  {
   "cell_type": "code",
   "execution_count": 4,
   "metadata": {},
   "outputs": [
    {
     "name": "stdout",
     "output_type": "stream",
     "text": [
      "Beginning Data Retrieval\n",
      "-----------------------------\n",
      "\n",
      "Processing Record 1 of Set 1 | mackay\n",
      "Processing Record 2 of Set 1 | tromso\n",
      "Processing Record 3 of Set 1 | mataura\n",
      "City not found. Skipping...\n",
      "Processing Record 4 of Set 1 | chapleau\n",
      "Processing Record 5 of Set 1 | longyearbyen\n",
      "Processing Record 6 of Set 1 | chokurdakh\n",
      "Processing Record 7 of Set 1 | georgetown\n",
      "Processing Record 8 of Set 1 | hilo\n",
      "Processing Record 9 of Set 1 | avarua\n",
      "Processing Record 10 of Set 1 | pundaguitan\n",
      "Processing Record 11 of Set 1 | buala\n",
      "Processing Record 12 of Set 1 | upernavik\n",
      "Processing Record 13 of Set 1 | butaritari\n",
      "Processing Record 14 of Set 1 | cherskiy\n",
      "Processing Record 15 of Set 1 | new norfolk\n",
      "Processing Record 16 of Set 1 | okhotsk\n",
      "City not found. Skipping...\n",
      "Processing Record 17 of Set 1 | ushuaia\n",
      "Processing Record 18 of Set 1 | codrington\n",
      "City not found. Skipping...\n",
      "Processing Record 19 of Set 1 | uttiramerur\n",
      "Processing Record 20 of Set 1 | pochutla\n",
      "Processing Record 21 of Set 1 | thompson\n",
      "Processing Record 22 of Set 1 | tasiilaq\n",
      "Processing Record 23 of Set 1 | vaini\n",
      "Processing Record 24 of Set 1 | tevaitoa\n",
      "City not found. Skipping...\n",
      "Processing Record 25 of Set 1 | asfi\n",
      "Processing Record 26 of Set 1 | albany\n",
      "Processing Record 27 of Set 1 | olinda\n",
      "Processing Record 28 of Set 1 | angoram\n",
      "Processing Record 29 of Set 1 | iaciara\n",
      "Processing Record 30 of Set 1 | hambantota\n",
      "City not found. Skipping...\n",
      "Processing Record 31 of Set 1 | bratsk\n",
      "City not found. Skipping...\n",
      "Processing Record 32 of Set 1 | ixtapa\n",
      "Processing Record 33 of Set 1 | navahrudak\n",
      "Processing Record 34 of Set 1 | cassia\n",
      "Processing Record 35 of Set 1 | koulikoro\n",
      "Processing Record 36 of Set 1 | gorontalo\n",
      "Processing Record 37 of Set 1 | nome\n",
      "Processing Record 38 of Set 1 | pingxiang\n",
      "Processing Record 39 of Set 1 | yulara\n",
      "Processing Record 40 of Set 1 | konevo\n",
      "Processing Record 41 of Set 1 | andenes\n",
      "Processing Record 42 of Set 1 | alexander city\n",
      "Processing Record 43 of Set 1 | mnogovershinnyy\n",
      "City not found. Skipping...\n",
      "Processing Record 44 of Set 1 | nagai\n",
      "Processing Record 45 of Set 1 | kapaa\n",
      "Processing Record 46 of Set 1 | cape town\n",
      "Processing Record 47 of Set 1 | castro\n",
      "Processing Record 48 of Set 1 | arraial do cabo\n",
      "Processing Record 49 of Set 1 | balaguer\n",
      "City not found. Skipping...\n",
      "Processing Record 50 of Set 1 | puerto ayora\n",
      "City not found. Skipping...\n",
      "Processing Record 51 of Set 1 | punta arenas\n",
      "City not found. Skipping...\n",
      "Processing Record 1 of Set 2 | pozo colorado\n",
      "Processing Record 2 of Set 2 | naze\n",
      "Processing Record 3 of Set 2 | norman wells\n",
      "Processing Record 4 of Set 2 | leninogorsk\n",
      "Processing Record 5 of Set 2 | dikson\n",
      "Processing Record 6 of Set 2 | pangoa\n",
      "City not found. Skipping...\n",
      "Processing Record 7 of Set 2 | egvekinot\n",
      "Processing Record 8 of Set 2 | lindsay\n",
      "Processing Record 9 of Set 2 | kaitangata\n",
      "Processing Record 10 of Set 2 | cockburn town\n",
      "Processing Record 11 of Set 2 | kentau\n",
      "Processing Record 12 of Set 2 | qaanaaq\n",
      "Processing Record 13 of Set 2 | saint anthony\n",
      "Processing Record 14 of Set 2 | inhambane\n",
      "Processing Record 15 of Set 2 | lompoc\n",
      "Processing Record 16 of Set 2 | gympie\n",
      "Processing Record 17 of Set 2 | busselton\n",
      "Processing Record 18 of Set 2 | takapau\n",
      "Processing Record 19 of Set 2 | airai\n",
      "Processing Record 20 of Set 2 | winnemucca\n",
      "Processing Record 21 of Set 2 | bambous virieux\n",
      "City not found. Skipping...\n",
      "Processing Record 22 of Set 2 | north bend\n",
      "Processing Record 23 of Set 2 | alofi\n",
      "Processing Record 24 of Set 2 | hualmay\n",
      "Processing Record 25 of Set 2 | rocha\n",
      "Processing Record 26 of Set 2 | barrow\n",
      "Processing Record 27 of Set 2 | yellowknife\n",
      "Processing Record 28 of Set 2 | ancud\n",
      "Processing Record 29 of Set 2 | trinidad\n",
      "Processing Record 30 of Set 2 | vilyuysk\n",
      "Processing Record 31 of Set 2 | yumen\n",
      "Processing Record 32 of Set 2 | sandnessjoen\n",
      "Processing Record 33 of Set 2 | kargasok\n",
      "Processing Record 34 of Set 2 | cabo san lucas\n",
      "Processing Record 35 of Set 2 | fortuna\n",
      "Processing Record 36 of Set 2 | ribeira grande\n",
      "Processing Record 37 of Set 2 | portland\n",
      "Processing Record 38 of Set 2 | marsa matruh\n",
      "Processing Record 39 of Set 2 | saint george\n",
      "City not found. Skipping...\n",
      "Processing Record 40 of Set 2 | rikitea\n",
      "Processing Record 41 of Set 2 | sur\n",
      "Processing Record 42 of Set 2 | kailua\n",
      "Processing Record 43 of Set 2 | port elizabeth\n",
      "Processing Record 44 of Set 2 | poso\n",
      "Processing Record 45 of Set 2 | jamestown\n",
      "Processing Record 46 of Set 2 | pevek\n",
      "Processing Record 47 of Set 2 | kahului\n",
      "Processing Record 48 of Set 2 | nikolskoye\n",
      "Processing Record 49 of Set 2 | bluff\n",
      "Processing Record 50 of Set 2 | bilma\n",
      "Processing Record 51 of Set 2 | huarmey\n",
      "Processing Record 1 of Set 3 | chimbote\n",
      "City not found. Skipping...\n",
      "Processing Record 2 of Set 3 | makakilo city\n",
      "Processing Record 3 of Set 3 | kolyvan\n",
      "Processing Record 4 of Set 3 | arlit\n",
      "Processing Record 5 of Set 3 | tiksi\n",
      "Processing Record 6 of Set 3 | barinitas\n",
      "Processing Record 7 of Set 3 | bambanglipuro\n",
      "Processing Record 8 of Set 3 | tuktoyaktuk\n",
      "Processing Record 9 of Set 3 | guiratinga\n",
      "Processing Record 10 of Set 3 | mongoumba\n",
      "Processing Record 11 of Set 3 | port alfred\n",
      "Processing Record 12 of Set 3 | vila franca do campo\n",
      "Processing Record 13 of Set 3 | kavaratti\n",
      "Processing Record 14 of Set 3 | sitka\n",
      "Processing Record 15 of Set 3 | balaipungut\n",
      "Processing Record 16 of Set 3 | upata\n",
      "Processing Record 17 of Set 3 | angoche\n",
      "Processing Record 18 of Set 3 | lebu\n",
      "Processing Record 19 of Set 3 | flinders\n",
      "Processing Record 20 of Set 3 | talnakh\n",
      "Processing Record 21 of Set 3 | ahipara\n",
      "Processing Record 22 of Set 3 | hermanus\n",
      "Processing Record 23 of Set 3 | cidreira\n",
      "Processing Record 24 of Set 3 | adrar\n",
      "Processing Record 25 of Set 3 | douentza\n",
      "Processing Record 26 of Set 3 | corinto\n",
      "Processing Record 27 of Set 3 | ponta do sol\n",
      "Processing Record 28 of Set 3 | tuatapere\n",
      "Processing Record 29 of Set 3 | marawi\n",
      "Processing Record 30 of Set 3 | vallenar\n",
      "Processing Record 31 of Set 3 | guerrero negro\n",
      "Processing Record 32 of Set 3 | padang\n",
      "Processing Record 33 of Set 3 | grand gaube\n",
      "Processing Record 34 of Set 3 | nanortalik\n",
      "Processing Record 35 of Set 3 | sao sebastiao do cai\n",
      "Processing Record 36 of Set 3 | garowe\n",
      "Processing Record 37 of Set 3 | kimbe\n",
      "Processing Record 38 of Set 3 | southbridge\n",
      "City not found. Skipping...\n",
      "Processing Record 39 of Set 3 | elko\n",
      "Processing Record 40 of Set 3 | margate\n",
      "Processing Record 41 of Set 3 | adelanto\n",
      "Processing Record 42 of Set 3 | gazli\n",
      "Processing Record 43 of Set 3 | nizhneangarsk\n",
      "Processing Record 44 of Set 3 | marsh harbour\n",
      "Processing Record 45 of Set 3 | dzidzantun\n",
      "Processing Record 46 of Set 3 | pichayevo\n",
      "Processing Record 47 of Set 3 | tessalit\n",
      "City not found. Skipping...\n",
      "Processing Record 48 of Set 3 | khatanga\n",
      "Processing Record 49 of Set 3 | antofagasta\n",
      "City not found. Skipping...\n",
      "Processing Record 50 of Set 3 | hobart\n",
      "Processing Record 51 of Set 3 | almeirim\n",
      "Processing Record 1 of Set 4 | chuy\n",
      "Processing Record 2 of Set 4 | igarka\n",
      "Processing Record 3 of Set 4 | baykit\n",
      "Processing Record 4 of Set 4 | luanda\n",
      "City not found. Skipping...\n",
      "Processing Record 5 of Set 4 | mahebourg\n",
      "City not found. Skipping...\n",
      "Processing Record 6 of Set 4 | daru\n",
      "Processing Record 7 of Set 4 | saskylakh\n",
      "Processing Record 8 of Set 4 | altagracia de orituco\n",
      "Processing Record 9 of Set 4 | caravelas\n",
      "Processing Record 10 of Set 4 | moyale\n",
      "Processing Record 11 of Set 4 | cocachacra\n",
      "Processing Record 12 of Set 4 | zhezkazgan\n",
      "Processing Record 13 of Set 4 | touba\n",
      "Processing Record 14 of Set 4 | yar-sale\n",
      "Processing Record 15 of Set 4 | acapulco\n",
      "Processing Record 16 of Set 4 | innisfail\n",
      "Processing Record 17 of Set 4 | ayan\n",
      "Processing Record 18 of Set 4 | esperance\n",
      "Processing Record 19 of Set 4 | atherton\n",
      "Processing Record 20 of Set 4 | pisco\n",
      "Processing Record 21 of Set 4 | hofn\n",
      "City not found. Skipping...\n",
      "Processing Record 22 of Set 4 | iquique\n",
      "City not found. Skipping...\n",
      "Processing Record 23 of Set 4 | westport\n",
      "Processing Record 24 of Set 4 | jumla\n",
      "City not found. Skipping...\n",
      "City not found. Skipping...\n",
      "Processing Record 25 of Set 4 | raga\n",
      "Processing Record 26 of Set 4 | doha\n",
      "Processing Record 27 of Set 4 | pont-audemer\n",
      "City not found. Skipping...\n",
      "Processing Record 28 of Set 4 | dubbo\n",
      "Processing Record 29 of Set 4 | san patricio\n"
     ]
    },
    {
     "name": "stdout",
     "output_type": "stream",
     "text": [
      "Processing Record 30 of Set 4 | bingol\n",
      "Processing Record 31 of Set 4 | strunino\n",
      "Processing Record 32 of Set 4 | hokitika\n",
      "Processing Record 33 of Set 4 | vestmannaeyjar\n",
      "Processing Record 34 of Set 4 | severo-kurilsk\n",
      "Processing Record 35 of Set 4 | kununurra\n",
      "Processing Record 36 of Set 4 | luderitz\n",
      "Processing Record 37 of Set 4 | acarau\n",
      "Processing Record 38 of Set 4 | auki\n",
      "Processing Record 39 of Set 4 | bom jesus da lapa\n",
      "Processing Record 40 of Set 4 | dandong\n",
      "Processing Record 41 of Set 4 | mossendjo\n",
      "Processing Record 42 of Set 4 | lorengau\n",
      "Processing Record 43 of Set 4 | torbay\n",
      "Processing Record 44 of Set 4 | dilla\n",
      "Processing Record 45 of Set 4 | biak\n",
      "Processing Record 46 of Set 4 | gimbi\n",
      "Processing Record 47 of Set 4 | hasaki\n",
      "Processing Record 48 of Set 4 | teshie\n",
      "Processing Record 49 of Set 4 | linhares\n",
      "Processing Record 50 of Set 4 | anadyr\n",
      "Processing Record 51 of Set 4 | languyan\n",
      "City not found. Skipping...\n",
      "Processing Record 1 of Set 5 | leningradskiy\n",
      "Processing Record 2 of Set 5 | havre-saint-pierre\n",
      "City not found. Skipping...\n",
      "Processing Record 3 of Set 5 | miyazu\n",
      "Processing Record 4 of Set 5 | bereda\n",
      "Processing Record 5 of Set 5 | san quintin\n",
      "Processing Record 6 of Set 5 | laguna\n",
      "Processing Record 7 of Set 5 | poum\n",
      "Processing Record 8 of Set 5 | broome\n",
      "Processing Record 9 of Set 5 | lakes entrance\n",
      "Processing Record 10 of Set 5 | robertsport\n",
      "Processing Record 11 of Set 5 | provideniya\n",
      "Processing Record 12 of Set 5 | road town\n",
      "Processing Record 13 of Set 5 | lavrentiya\n",
      "Processing Record 14 of Set 5 | dingle\n",
      "Processing Record 15 of Set 5 | xining\n",
      "Processing Record 16 of Set 5 | bafia\n",
      "Processing Record 17 of Set 5 | krasnyy chikoy\n",
      "Processing Record 18 of Set 5 | mar del plata\n",
      "Processing Record 19 of Set 5 | kanniyakumari\n",
      "Processing Record 20 of Set 5 | saint-philippe\n",
      "Processing Record 21 of Set 5 | kloulklubed\n",
      "Processing Record 22 of Set 5 | pakxan\n",
      "Processing Record 23 of Set 5 | havelock\n",
      "Processing Record 24 of Set 5 | grand-lahou\n",
      "Processing Record 25 of Set 5 | moose factory\n",
      "Processing Record 26 of Set 5 | puerto madero\n",
      "Processing Record 27 of Set 5 | kodiak\n",
      "Processing Record 28 of Set 5 | balkanabat\n",
      "Processing Record 29 of Set 5 | faanui\n",
      "Processing Record 30 of Set 5 | pierre\n",
      "Processing Record 31 of Set 5 | silvino lobos\n",
      "Processing Record 32 of Set 5 | lere\n",
      "Processing Record 33 of Set 5 | zyryanka\n",
      "Processing Record 34 of Set 5 | razole\n",
      "Processing Record 35 of Set 5 | timmins\n",
      "Processing Record 36 of Set 5 | klaksvik\n",
      "Processing Record 37 of Set 5 | maua\n",
      "Processing Record 38 of Set 5 | aguimes\n",
      "City not found. Skipping...\n",
      "Processing Record 39 of Set 5 | iisalmi\n",
      "Processing Record 40 of Set 5 | bethel\n",
      "Processing Record 41 of Set 5 | port macquarie\n",
      "Processing Record 42 of Set 5 | shimoda\n",
      "Processing Record 43 of Set 5 | tahe\n",
      "Processing Record 44 of Set 5 | bosaso\n",
      "Processing Record 45 of Set 5 | bengkulu\n",
      "Processing Record 46 of Set 5 | hami\n",
      "Processing Record 47 of Set 5 | meulaboh\n",
      "Processing Record 48 of Set 5 | santa isabel do rio negro\n",
      "Processing Record 49 of Set 5 | kapoeta\n",
      "Processing Record 50 of Set 5 | areosa\n",
      "Processing Record 51 of Set 5 | sudbury\n",
      "City not found. Skipping...\n",
      "Processing Record 1 of Set 6 | farafangana\n",
      "Processing Record 2 of Set 6 | thinadhoo\n",
      "Processing Record 3 of Set 6 | pemangkat\n",
      "Processing Record 4 of Set 6 | chato\n",
      "Processing Record 5 of Set 6 | kemise\n",
      "Processing Record 6 of Set 6 | katsuura\n",
      "Processing Record 7 of Set 6 | darnah\n",
      "Processing Record 8 of Set 6 | totkomlos\n",
      "Processing Record 9 of Set 6 | bredasdorp\n",
      "City not found. Skipping...\n",
      "Processing Record 10 of Set 6 | ginir\n",
      "City not found. Skipping...\n",
      "Processing Record 11 of Set 6 | saltillo\n",
      "Processing Record 12 of Set 6 | aljezur\n",
      "Processing Record 13 of Set 6 | port blair\n",
      "Processing Record 14 of Set 6 | cayenne\n",
      "Processing Record 15 of Set 6 | aloleng\n",
      "Processing Record 16 of Set 6 | souillac\n",
      "Processing Record 17 of Set 6 | carnarvon\n",
      "Processing Record 18 of Set 6 | sjenica\n",
      "Processing Record 19 of Set 6 | hobyo\n",
      "Processing Record 20 of Set 6 | novikovo\n",
      "Processing Record 21 of Set 6 | wheat ridge\n",
      "Processing Record 22 of Set 6 | komsomolskiy\n",
      "Processing Record 23 of Set 6 | mogadishu\n",
      "Processing Record 24 of Set 6 | kruisfontein\n",
      "Processing Record 25 of Set 6 | maraa\n",
      "Processing Record 26 of Set 6 | fort nelson\n",
      "Processing Record 27 of Set 6 | sibolga\n",
      "Processing Record 28 of Set 6 | bayamo\n",
      "Processing Record 29 of Set 6 | dekar\n",
      "Processing Record 30 of Set 6 | birin\n",
      "Processing Record 31 of Set 6 | labytnangi\n",
      "Processing Record 32 of Set 6 | mount isa\n",
      "Processing Record 33 of Set 6 | alekseyevsk\n",
      "Processing Record 34 of Set 6 | kogon\n",
      "Processing Record 35 of Set 6 | isla vista\n",
      "Processing Record 36 of Set 6 | sfantu gheorghe\n",
      "City not found. Skipping...\n",
      "Processing Record 37 of Set 6 | bonthe\n",
      "City not found. Skipping...\n",
      "Processing Record 38 of Set 6 | ngunguru\n",
      "Processing Record 39 of Set 6 | atar\n",
      "Processing Record 40 of Set 6 | vostok\n",
      "Processing Record 41 of Set 6 | chardara\n",
      "Processing Record 42 of Set 6 | kamenka\n",
      "Processing Record 43 of Set 6 | seoul\n",
      "Processing Record 44 of Set 6 | half moon bay\n",
      "Processing Record 45 of Set 6 | platteville\n",
      "Processing Record 46 of Set 6 | barcelona\n",
      "Processing Record 47 of Set 6 | bonavista\n",
      "Processing Record 48 of Set 6 | mbuji-mayi\n",
      "Processing Record 49 of Set 6 | koluszki\n",
      "Processing Record 50 of Set 6 | anan\n",
      "City not found. Skipping...\n",
      "Processing Record 51 of Set 6 | gat\n",
      "City not found. Skipping...\n",
      "Processing Record 1 of Set 7 | iqaluit\n",
      "Processing Record 2 of Set 7 | ilulissat\n",
      "Processing Record 3 of Set 7 | aklavik\n",
      "City not found. Skipping...\n",
      "Processing Record 4 of Set 7 | darhan\n",
      "Processing Record 5 of Set 7 | krasnoselkup\n",
      "Processing Record 6 of Set 7 | ucluelet\n",
      "Processing Record 7 of Set 7 | nanakuli\n",
      "Processing Record 8 of Set 7 | haines junction\n",
      "Processing Record 9 of Set 7 | gijon\n",
      "Processing Record 10 of Set 7 | cotonou\n",
      "Processing Record 11 of Set 7 | yerofey pavlovich\n",
      "Processing Record 12 of Set 7 | east london\n",
      "Processing Record 13 of Set 7 | dauriya\n",
      "Processing Record 14 of Set 7 | guane\n",
      "Processing Record 15 of Set 7 | alta floresta\n",
      "Processing Record 16 of Set 7 | los algarrobos\n",
      "Processing Record 17 of Set 7 | kavieng\n",
      "Processing Record 18 of Set 7 | petropavlovsk-kamchatskiy\n",
      "Processing Record 19 of Set 7 | hithadhoo\n",
      "Processing Record 20 of Set 7 | vao\n",
      "City not found. Skipping...\n",
      "Processing Record 21 of Set 7 | vardo\n",
      "Processing Record 22 of Set 7 | darlowo\n",
      "Processing Record 23 of Set 7 | visnes\n",
      "Processing Record 24 of Set 7 | astoria\n",
      "Processing Record 25 of Set 7 | chapais\n",
      "Processing Record 26 of Set 7 | baza\n",
      "Processing Record 27 of Set 7 | kondinskoye\n",
      "Processing Record 28 of Set 7 | coahuayana\n",
      "City not found. Skipping...\n",
      "Processing Record 29 of Set 7 | hamilton\n",
      "City not found. Skipping...\n",
      "Processing Record 30 of Set 7 | sardarshahr\n",
      "Processing Record 31 of Set 7 | willmar\n",
      "Processing Record 32 of Set 7 | hurghada\n",
      "Processing Record 33 of Set 7 | san lorenzo\n",
      "Processing Record 34 of Set 7 | umm kaddadah\n",
      "Processing Record 35 of Set 7 | carbondale\n",
      "Processing Record 36 of Set 7 | manzhouli\n",
      "Processing Record 37 of Set 7 | podosinovets\n",
      "Processing Record 38 of Set 7 | abu samrah\n",
      "Processing Record 39 of Set 7 | tateyama\n",
      "Processing Record 40 of Set 7 | nyagan\n",
      "Processing Record 41 of Set 7 | sarkand\n",
      "Processing Record 42 of Set 7 | narsaq\n",
      "Processing Record 43 of Set 7 | rio cuarto\n",
      "Processing Record 44 of Set 7 | mubende\n",
      "Processing Record 45 of Set 7 | belle fourche\n",
      "Processing Record 46 of Set 7 | ostrovnoy\n",
      "Processing Record 47 of Set 7 | amuntai\n",
      "Processing Record 48 of Set 7 | chicama\n",
      "Processing Record 49 of Set 7 | amberley\n",
      "Processing Record 50 of Set 7 | kiunga\n",
      "Processing Record 51 of Set 7 | vestmanna\n",
      "Processing Record 1 of Set 8 | nouakchott\n",
      "Processing Record 2 of Set 8 | penzance\n",
      "Processing Record 3 of Set 8 | guangyuan\n",
      "City not found. Skipping...\n",
      "Processing Record 4 of Set 8 | bandarbeyla\n",
      "Processing Record 5 of Set 8 | jalu\n",
      "Processing Record 6 of Set 8 | mansa\n",
      "Processing Record 7 of Set 8 | yantal\n",
      "Processing Record 8 of Set 8 | sanski most\n",
      "Processing Record 9 of Set 8 | qui nhon\n",
      "Processing Record 10 of Set 8 | jaypur\n",
      "Processing Record 11 of Set 8 | urumqi\n",
      "Processing Record 12 of Set 8 | kenai\n",
      "Processing Record 13 of Set 8 | sarkikaraagac\n",
      "Processing Record 14 of Set 8 | basco\n"
     ]
    },
    {
     "name": "stdout",
     "output_type": "stream",
     "text": [
      "Processing Record 15 of Set 8 | marystown\n",
      "Processing Record 16 of Set 8 | kokopo\n",
      "City not found. Skipping...\n",
      "Processing Record 17 of Set 8 | saint-louis\n",
      "Processing Record 18 of Set 8 | pingdingshan\n",
      "Processing Record 19 of Set 8 | synya\n",
      "Processing Record 20 of Set 8 | komatsu\n",
      "Processing Record 21 of Set 8 | homer\n",
      "Processing Record 22 of Set 8 | te anau\n",
      "City not found. Skipping...\n",
      "Processing Record 23 of Set 8 | praya\n",
      "Processing Record 24 of Set 8 | yatou\n",
      "City not found. Skipping...\n",
      "Processing Record 25 of Set 8 | dombarovskiy\n",
      "Processing Record 26 of Set 8 | honningsvag\n",
      "Processing Record 27 of Set 8 | elhovo\n",
      "Processing Record 28 of Set 8 | novyy buyan\n",
      "Processing Record 29 of Set 8 | north adams\n",
      "Processing Record 30 of Set 8 | pinega\n",
      "Processing Record 31 of Set 8 | srednekolymsk\n",
      "Processing Record 32 of Set 8 | the valley\n",
      "Processing Record 33 of Set 8 | mocuba\n",
      "Processing Record 34 of Set 8 | china\n",
      "Processing Record 35 of Set 8 | mezhdurechensk\n",
      "Processing Record 36 of Set 8 | sinnamary\n",
      "Processing Record 37 of Set 8 | grindavik\n",
      "Processing Record 38 of Set 8 | sept-iles\n",
      "Processing Record 39 of Set 8 | alyangula\n",
      "Processing Record 40 of Set 8 | ketchikan\n",
      "City not found. Skipping...\n",
      "Processing Record 41 of Set 8 | buraydah\n",
      "Processing Record 42 of Set 8 | bayir\n",
      "Processing Record 43 of Set 8 | mangai\n",
      "Processing Record 44 of Set 8 | barra do garcas\n",
      "Processing Record 45 of Set 8 | progreso\n",
      "Processing Record 46 of Set 8 | la rioja\n",
      "Processing Record 47 of Set 8 | puerto quijarro\n",
      "Processing Record 48 of Set 8 | medeiros neto\n",
      "Processing Record 49 of Set 8 | amboasary\n",
      "Processing Record 50 of Set 8 | satuba\n",
      "Processing Record 51 of Set 8 | necochea\n",
      "Processing Record 1 of Set 9 | saldanha\n",
      "Processing Record 2 of Set 9 | liberty\n",
      "Processing Record 3 of Set 9 | karratha\n",
      "Processing Record 4 of Set 9 | sao joao da barra\n",
      "Processing Record 5 of Set 9 | high rock\n",
      "Processing Record 6 of Set 9 | flin flon\n",
      "Processing Record 7 of Set 9 | agadir\n",
      "Processing Record 8 of Set 9 | kiama\n",
      "Processing Record 9 of Set 9 | victoria\n",
      "Processing Record 10 of Set 9 | male\n",
      "Processing Record 11 of Set 9 | wanaka\n",
      "City not found. Skipping...\n",
      "Processing Record 12 of Set 9 | ambon\n",
      "Processing Record 13 of Set 9 | osorno\n",
      "Processing Record 14 of Set 9 | kerrobert\n",
      "Processing Record 15 of Set 9 | sargatskoye\n",
      "Processing Record 16 of Set 9 | tongchuan\n",
      "Processing Record 17 of Set 9 | saint-augustin\n",
      "Processing Record 18 of Set 9 | teknaf\n",
      "Processing Record 19 of Set 9 | winneba\n",
      "Processing Record 20 of Set 9 | balikpapan\n",
      "Processing Record 21 of Set 9 | kadoma\n",
      "Processing Record 22 of Set 9 | asyut\n",
      "Processing Record 23 of Set 9 | neftcala\n",
      "Processing Record 24 of Set 9 | lixourion\n",
      "Processing Record 25 of Set 9 | ipixuna\n",
      "Processing Record 26 of Set 9 | sola\n",
      "Processing Record 27 of Set 9 | eydhafushi\n",
      "Processing Record 28 of Set 9 | paramonga\n",
      "Processing Record 29 of Set 9 | college\n",
      "Processing Record 30 of Set 9 | karaton\n",
      "Processing Record 31 of Set 9 | pajapan\n",
      "Processing Record 32 of Set 9 | suseni\n",
      "Processing Record 33 of Set 9 | evensk\n",
      "Processing Record 34 of Set 9 | steinbach\n",
      "Processing Record 35 of Set 9 | baoqing\n",
      "Processing Record 36 of Set 9 | alice springs\n",
      "Processing Record 37 of Set 9 | chake chake\n",
      "Processing Record 38 of Set 9 | cururupu\n",
      "Processing Record 39 of Set 9 | namibe\n",
      "Processing Record 40 of Set 9 | kenscoff\n",
      "Processing Record 41 of Set 9 | kasempa\n",
      "Processing Record 42 of Set 9 | udachnyy\n",
      "Processing Record 43 of Set 9 | madimba\n",
      "Processing Record 44 of Set 9 | chaadayevka\n",
      "City not found. Skipping...\n",
      "Processing Record 45 of Set 9 | clyde river\n",
      "Processing Record 46 of Set 9 | nizwa\n",
      "City not found. Skipping...\n",
      "Processing Record 47 of Set 9 | bima\n",
      "Processing Record 48 of Set 9 | ngama\n",
      "Processing Record 49 of Set 9 | berekum\n",
      "Processing Record 50 of Set 9 | capitan bado\n",
      "City not found. Skipping...\n",
      "Processing Record 51 of Set 9 | cordoba\n",
      "Processing Record 1 of Set 10 | matay\n",
      "Processing Record 2 of Set 10 | mandalgovi\n",
      "Processing Record 3 of Set 10 | dunedin\n",
      "Processing Record 4 of Set 10 | la tuque\n",
      "City not found. Skipping...\n",
      "Processing Record 5 of Set 10 | kizukuri\n",
      "Processing Record 6 of Set 10 | fredericksburg\n",
      "Processing Record 7 of Set 10 | miramar\n",
      "Processing Record 8 of Set 10 | faya\n",
      "Processing Record 9 of Set 10 | san pedro\n",
      "City not found. Skipping...\n",
      "Processing Record 10 of Set 10 | nadadores\n",
      "Processing Record 11 of Set 10 | mehran\n",
      "Processing Record 12 of Set 10 | panaba\n",
      "Processing Record 13 of Set 10 | sakakah\n",
      "Processing Record 14 of Set 10 | sorland\n",
      "City not found. Skipping...\n",
      "Processing Record 15 of Set 10 | durango\n",
      "Processing Record 16 of Set 10 | yanam\n",
      "Processing Record 17 of Set 10 | pudozh\n",
      "Processing Record 18 of Set 10 | muros\n",
      "Processing Record 19 of Set 10 | mieres\n",
      "Processing Record 20 of Set 10 | salalah\n",
      "Processing Record 21 of Set 10 | warrington\n",
      "Processing Record 22 of Set 10 | grand-santi\n",
      "Processing Record 23 of Set 10 | san andres\n",
      "Processing Record 24 of Set 10 | farah\n",
      "Processing Record 25 of Set 10 | svetlaya\n",
      "City not found. Skipping...\n",
      "Processing Record 26 of Set 10 | grao mogol\n",
      "Processing Record 27 of Set 10 | saint augustine\n",
      "Processing Record 28 of Set 10 | nongan\n",
      "Processing Record 29 of Set 10 | broken hill\n",
      "Processing Record 30 of Set 10 | barbatesti\n",
      "Processing Record 31 of Set 10 | karoi\n",
      "Processing Record 32 of Set 10 | quatre cocos\n",
      "Processing Record 33 of Set 10 | dong hoi\n",
      "City not found. Skipping...\n",
      "Processing Record 34 of Set 10 | bay roberts\n",
      "Processing Record 35 of Set 10 | maniitsoq\n",
      "Processing Record 36 of Set 10 | port lincoln\n",
      "City not found. Skipping...\n",
      "Processing Record 37 of Set 10 | los llanos de aridane\n",
      "Processing Record 38 of Set 10 | diu\n",
      "Processing Record 39 of Set 10 | vila velha\n",
      "Processing Record 40 of Set 10 | maracacume\n",
      "Processing Record 41 of Set 10 | san carlos de bariloche\n",
      "Processing Record 42 of Set 10 | praia\n",
      "Processing Record 43 of Set 10 | sivas\n",
      "Processing Record 44 of Set 10 | beihai\n",
      "Processing Record 45 of Set 10 | piacabucu\n",
      "Processing Record 46 of Set 10 | vung tau\n",
      "Processing Record 47 of Set 10 | kangaatsiaq\n",
      "Processing Record 48 of Set 10 | constitucion\n",
      "Processing Record 49 of Set 10 | hun\n",
      "Processing Record 50 of Set 10 | hermon\n",
      "Processing Record 51 of Set 10 | ryotsu\n",
      "City not found. Skipping...\n",
      "Processing Record 1 of Set 11 | erzurum\n",
      "Processing Record 2 of Set 11 | bourail\n",
      "Processing Record 3 of Set 11 | kudahuvadhoo\n",
      "Processing Record 4 of Set 11 | ballina\n",
      "Processing Record 5 of Set 11 | emerald\n",
      "Processing Record 6 of Set 11 | san joaquin\n",
      "Processing Record 7 of Set 11 | baiquan\n",
      "Processing Record 8 of Set 11 | bilibino\n",
      "Processing Record 9 of Set 11 | ulladulla\n",
      "Processing Record 10 of Set 11 | waipawa\n",
      "Processing Record 11 of Set 11 | verkhnyaya toyma\n",
      "City not found. Skipping...\n",
      "Processing Record 12 of Set 11 | ewa beach\n",
      "City not found. Skipping...\n",
      "Processing Record 13 of Set 11 | cochrane\n",
      "Processing Record 14 of Set 11 | salinas\n",
      "Processing Record 15 of Set 11 | tautira\n",
      "Processing Record 16 of Set 11 | mweka\n",
      "Processing Record 17 of Set 11 | barabai\n",
      "City not found. Skipping...\n",
      "Processing Record 18 of Set 11 | matagami\n",
      "Processing Record 19 of Set 11 | vanimo\n",
      "Processing Record 20 of Set 11 | kisangani\n",
      "Processing Record 21 of Set 11 | cumanayagua\n",
      "Processing Record 22 of Set 11 | americana\n",
      "City not found. Skipping...\n",
      "Processing Record 23 of Set 11 | gedinne\n",
      "Processing Record 24 of Set 11 | truth or consequences\n",
      "City not found. Skipping...\n",
      "Processing Record 25 of Set 11 | jiayuguan\n",
      "Processing Record 26 of Set 11 | itarema\n",
      "Processing Record 27 of Set 11 | oriximina\n",
      "Processing Record 28 of Set 11 | jiazi\n"
     ]
    }
   ],
   "source": [
    "#Create lists\n",
    "city_list = []\n",
    "lat_list = []\n",
    "lng_list = []\n",
    "max_temp_list = []\n",
    "hum_list = []\n",
    "cloudy_list = []\n",
    "wind_list = []\n",
    "country_list = []\n",
    "date_list = []\n",
    "counter = 0\n",
    "sets = 1\n",
    "\n",
    "print(f\"Beginning Data Retrieval\\n\"  \n",
    "f\"-----------------------------\\n\")\n",
    "    \n",
    "#Run loop through city list\n",
    "for city in cities:\n",
    "    #Build partial query URL\n",
    "    query_url = f\"{url}q={cape town.replace(' ','+')}&appid={weather_api_key}\"\n",
    "    #Response from API requests\n",
    "    response = requests.get(query_url).json()\n",
    "    #Call and creation of list\n",
    "    try:\n",
    "        city_list.append(response['name'])\n",
    "        lat_list.append(response['coord']['lat'])\n",
    "        lng_list.append(response['coord']['lon'])\n",
    "        max_temp_list.append(response['main']['temp_max'])\n",
    "        hum_list.append(response['main']['humidity'])\n",
    "        cloudy_list.append(response['clouds']['all'])\n",
    "        wind_list.append(response['wind']['speed'])\n",
    "        country_list.append(response['sys']['country'])\n",
    "        date_list.append(response['dt'])\n",
    "        #Populate counters\n",
    "        if counter>50:\n",
    "            counter=0\n",
    "            sets+=1\n",
    "            time.sleep(2)\n",
    "        else:    \n",
    "            counter+=1\n",
    "            print(f\"Processing Record {counter} of Set {sets} | {city}\")\n",
    "            time.sleep(2)\n",
    "    except:\n",
    "        print(f\"City not found. Skipping...\")\n",
    "        \n",
    "# print(f\"-----------------------------\\n\"\n",
    "# f\"Data Retrieval Complete\\n\"      \n",
    "# f\"-----------------------------\\n\")"
   ]
  },
  {
   "cell_type": "markdown",
   "metadata": {},
   "source": [
    "### Convert Raw Data to DataFrame\n",
    "* Export the city data into a .csv.\n",
    "* Display the DataFrame"
   ]
  },
  {
   "cell_type": "code",
   "execution_count": 68,
   "metadata": {},
   "outputs": [
    {
     "data": {
      "text/html": [
       "<div>\n",
       "<style scoped>\n",
       "    .dataframe tbody tr th:only-of-type {\n",
       "        vertical-align: middle;\n",
       "    }\n",
       "\n",
       "    .dataframe tbody tr th {\n",
       "        vertical-align: top;\n",
       "    }\n",
       "\n",
       "    .dataframe thead th {\n",
       "        text-align: right;\n",
       "    }\n",
       "</style>\n",
       "<table border=\"1\" class=\"dataframe\">\n",
       "  <thead>\n",
       "    <tr style=\"text-align: right;\">\n",
       "      <th></th>\n",
       "      <th>City</th>\n",
       "      <th>Latitude</th>\n",
       "      <th>Longitude</th>\n",
       "      <th>Max_Temps</th>\n",
       "      <th>Humidity</th>\n",
       "      <th>Cloudiness</th>\n",
       "      <th>Wind_Speed</th>\n",
       "      <th>Country</th>\n",
       "      <th>Date</th>\n",
       "    </tr>\n",
       "  </thead>\n",
       "  <tbody>\n",
       "    <tr>\n",
       "      <th>0</th>\n",
       "      <td>Mackay</td>\n",
       "      <td>-21.1500</td>\n",
       "      <td>149.2000</td>\n",
       "      <td>297.62</td>\n",
       "      <td>35</td>\n",
       "      <td>4</td>\n",
       "      <td>4.12</td>\n",
       "      <td>AU</td>\n",
       "      <td>1623981388</td>\n",
       "    </tr>\n",
       "    <tr>\n",
       "      <th>1</th>\n",
       "      <td>Tromsø</td>\n",
       "      <td>69.6496</td>\n",
       "      <td>18.9570</td>\n",
       "      <td>282.51</td>\n",
       "      <td>93</td>\n",
       "      <td>75</td>\n",
       "      <td>0.00</td>\n",
       "      <td>NO</td>\n",
       "      <td>1623981391</td>\n",
       "    </tr>\n",
       "    <tr>\n",
       "      <th>2</th>\n",
       "      <td>Mataura</td>\n",
       "      <td>-46.1927</td>\n",
       "      <td>168.8643</td>\n",
       "      <td>281.19</td>\n",
       "      <td>75</td>\n",
       "      <td>7</td>\n",
       "      <td>3.24</td>\n",
       "      <td>NZ</td>\n",
       "      <td>1623981393</td>\n",
       "    </tr>\n",
       "    <tr>\n",
       "      <th>3</th>\n",
       "      <td>Chapleau</td>\n",
       "      <td>47.8405</td>\n",
       "      <td>-83.4034</td>\n",
       "      <td>295.20</td>\n",
       "      <td>49</td>\n",
       "      <td>75</td>\n",
       "      <td>3.09</td>\n",
       "      <td>CA</td>\n",
       "      <td>1623981396</td>\n",
       "    </tr>\n",
       "    <tr>\n",
       "      <th>4</th>\n",
       "      <td>Longyearbyen</td>\n",
       "      <td>78.2186</td>\n",
       "      <td>15.6401</td>\n",
       "      <td>277.06</td>\n",
       "      <td>65</td>\n",
       "      <td>75</td>\n",
       "      <td>5.66</td>\n",
       "      <td>SJ</td>\n",
       "      <td>1623981399</td>\n",
       "    </tr>\n",
       "    <tr>\n",
       "      <th>...</th>\n",
       "      <td>...</td>\n",
       "      <td>...</td>\n",
       "      <td>...</td>\n",
       "      <td>...</td>\n",
       "      <td>...</td>\n",
       "      <td>...</td>\n",
       "      <td>...</td>\n",
       "      <td>...</td>\n",
       "      <td>...</td>\n",
       "    </tr>\n",
       "    <tr>\n",
       "      <th>543</th>\n",
       "      <td>Truth or Consequences</td>\n",
       "      <td>33.1284</td>\n",
       "      <td>-107.2528</td>\n",
       "      <td>307.28</td>\n",
       "      <td>16</td>\n",
       "      <td>1</td>\n",
       "      <td>4.12</td>\n",
       "      <td>US</td>\n",
       "      <td>1623982763</td>\n",
       "    </tr>\n",
       "    <tr>\n",
       "      <th>544</th>\n",
       "      <td>Jiayuguan City</td>\n",
       "      <td>39.8167</td>\n",
       "      <td>98.3000</td>\n",
       "      <td>294.14</td>\n",
       "      <td>16</td>\n",
       "      <td>100</td>\n",
       "      <td>2.44</td>\n",
       "      <td>CN</td>\n",
       "      <td>1623982766</td>\n",
       "    </tr>\n",
       "    <tr>\n",
       "      <th>545</th>\n",
       "      <td>Itarema</td>\n",
       "      <td>-2.9248</td>\n",
       "      <td>-39.9167</td>\n",
       "      <td>299.22</td>\n",
       "      <td>83</td>\n",
       "      <td>16</td>\n",
       "      <td>5.16</td>\n",
       "      <td>BR</td>\n",
       "      <td>1623982768</td>\n",
       "    </tr>\n",
       "    <tr>\n",
       "      <th>546</th>\n",
       "      <td>Oriximiná</td>\n",
       "      <td>-1.7656</td>\n",
       "      <td>-55.8661</td>\n",
       "      <td>297.10</td>\n",
       "      <td>90</td>\n",
       "      <td>51</td>\n",
       "      <td>1.73</td>\n",
       "      <td>BR</td>\n",
       "      <td>1623982682</td>\n",
       "    </tr>\n",
       "    <tr>\n",
       "      <th>547</th>\n",
       "      <td>Jiazi</td>\n",
       "      <td>22.8779</td>\n",
       "      <td>116.0670</td>\n",
       "      <td>303.80</td>\n",
       "      <td>72</td>\n",
       "      <td>7</td>\n",
       "      <td>7.70</td>\n",
       "      <td>CN</td>\n",
       "      <td>1623982773</td>\n",
       "    </tr>\n",
       "  </tbody>\n",
       "</table>\n",
       "<p>548 rows × 9 columns</p>\n",
       "</div>"
      ],
      "text/plain": [
       "                      City  Latitude  Longitude  Max_Temps  Humidity  \\\n",
       "0                   Mackay  -21.1500   149.2000     297.62        35   \n",
       "1                   Tromsø   69.6496    18.9570     282.51        93   \n",
       "2                  Mataura  -46.1927   168.8643     281.19        75   \n",
       "3                 Chapleau   47.8405   -83.4034     295.20        49   \n",
       "4             Longyearbyen   78.2186    15.6401     277.06        65   \n",
       "..                     ...       ...        ...        ...       ...   \n",
       "543  Truth or Consequences   33.1284  -107.2528     307.28        16   \n",
       "544         Jiayuguan City   39.8167    98.3000     294.14        16   \n",
       "545                Itarema   -2.9248   -39.9167     299.22        83   \n",
       "546              Oriximiná   -1.7656   -55.8661     297.10        90   \n",
       "547                  Jiazi   22.8779   116.0670     303.80        72   \n",
       "\n",
       "     Cloudiness  Wind_Speed Country        Date  \n",
       "0             4        4.12      AU  1623981388  \n",
       "1            75        0.00      NO  1623981391  \n",
       "2             7        3.24      NZ  1623981393  \n",
       "3            75        3.09      CA  1623981396  \n",
       "4            75        5.66      SJ  1623981399  \n",
       "..          ...         ...     ...         ...  \n",
       "543           1        4.12      US  1623982763  \n",
       "544         100        2.44      CN  1623982766  \n",
       "545          16        5.16      BR  1623982768  \n",
       "546          51        1.73      BR  1623982682  \n",
       "547           7        7.70      CN  1623982773  \n",
       "\n",
       "[548 rows x 9 columns]"
      ]
     },
     "execution_count": 68,
     "metadata": {},
     "output_type": "execute_result"
    }
   ],
   "source": [
    "# #Converting Raw data\n",
    "weather_df = pd.DataFrame({\n",
    "    \"City\": city_list,\n",
    "    \"Latitude\": lat_list,\n",
    "    \"Longitude\": lng_list,\n",
    "    \"Max_Temps\": max_temp_list,\n",
    "    \"Humidity\": hum_list,\n",
    "    \"Cloudiness\": cloudy_list,\n",
    "    \"Wind_Speed\": wind_list,\n",
    "    \"Country\": country_list,\n",
    "    \"Date\": date_list\n",
    "})\n",
    "\n",
    "weather_df"
   ]
  },
  {
   "cell_type": "code",
   "execution_count": 69,
   "metadata": {},
   "outputs": [],
   "source": [
    "#Save df as CSV file\n",
    "weather_df.to_csv('CityWeather.csv')"
   ]
  },
  {
   "cell_type": "markdown",
   "metadata": {},
   "source": [
    "## Inspect the data and remove the cities where the humidity > 100%.\n",
    "----\n",
    "Skip this step if there are no cities that have humidity > 100%. "
   ]
  },
  {
   "cell_type": "code",
   "execution_count": 7,
   "metadata": {},
   "outputs": [
    {
     "data": {
      "text/html": [
       "<div>\n",
       "<style scoped>\n",
       "    .dataframe tbody tr th:only-of-type {\n",
       "        vertical-align: middle;\n",
       "    }\n",
       "\n",
       "    .dataframe tbody tr th {\n",
       "        vertical-align: top;\n",
       "    }\n",
       "\n",
       "    .dataframe thead th {\n",
       "        text-align: right;\n",
       "    }\n",
       "</style>\n",
       "<table border=\"1\" class=\"dataframe\">\n",
       "  <thead>\n",
       "    <tr style=\"text-align: right;\">\n",
       "      <th></th>\n",
       "      <th>Latitude</th>\n",
       "      <th>Longitude</th>\n",
       "      <th>Max_Temps</th>\n",
       "      <th>Humidity</th>\n",
       "      <th>Cloudiness</th>\n",
       "      <th>Wind_Speed</th>\n",
       "      <th>Date</th>\n",
       "    </tr>\n",
       "  </thead>\n",
       "  <tbody>\n",
       "    <tr>\n",
       "      <th>count</th>\n",
       "      <td>548.000000</td>\n",
       "      <td>548.000000</td>\n",
       "      <td>548.000000</td>\n",
       "      <td>548.000000</td>\n",
       "      <td>548.000000</td>\n",
       "      <td>548.000000</td>\n",
       "      <td>5.480000e+02</td>\n",
       "    </tr>\n",
       "    <tr>\n",
       "      <th>mean</th>\n",
       "      <td>19.907407</td>\n",
       "      <td>16.398529</td>\n",
       "      <td>293.130657</td>\n",
       "      <td>69.854015</td>\n",
       "      <td>54.627737</td>\n",
       "      <td>3.442883</td>\n",
       "      <td>1.623982e+09</td>\n",
       "    </tr>\n",
       "    <tr>\n",
       "      <th>std</th>\n",
       "      <td>32.462807</td>\n",
       "      <td>93.069280</td>\n",
       "      <td>8.063128</td>\n",
       "      <td>21.502873</td>\n",
       "      <td>40.119749</td>\n",
       "      <td>2.390951</td>\n",
       "      <td>4.100902e+02</td>\n",
       "    </tr>\n",
       "    <tr>\n",
       "      <th>min</th>\n",
       "      <td>-54.800000</td>\n",
       "      <td>-179.166700</td>\n",
       "      <td>270.930000</td>\n",
       "      <td>7.000000</td>\n",
       "      <td>0.000000</td>\n",
       "      <td>0.000000</td>\n",
       "      <td>1.623981e+09</td>\n",
       "    </tr>\n",
       "    <tr>\n",
       "      <th>25%</th>\n",
       "      <td>-5.321975</td>\n",
       "      <td>-65.620375</td>\n",
       "      <td>287.390000</td>\n",
       "      <td>58.750000</td>\n",
       "      <td>9.000000</td>\n",
       "      <td>1.610000</td>\n",
       "      <td>1.623982e+09</td>\n",
       "    </tr>\n",
       "    <tr>\n",
       "      <th>50%</th>\n",
       "      <td>22.175950</td>\n",
       "      <td>22.285000</td>\n",
       "      <td>293.955000</td>\n",
       "      <td>74.500000</td>\n",
       "      <td>62.000000</td>\n",
       "      <td>2.895000</td>\n",
       "      <td>1.623982e+09</td>\n",
       "    </tr>\n",
       "    <tr>\n",
       "      <th>75%</th>\n",
       "      <td>46.352950</td>\n",
       "      <td>101.891400</td>\n",
       "      <td>299.465000</td>\n",
       "      <td>86.000000</td>\n",
       "      <td>98.000000</td>\n",
       "      <td>4.630000</td>\n",
       "      <td>1.623982e+09</td>\n",
       "    </tr>\n",
       "    <tr>\n",
       "      <th>max</th>\n",
       "      <td>78.218600</td>\n",
       "      <td>178.416700</td>\n",
       "      <td>315.320000</td>\n",
       "      <td>100.000000</td>\n",
       "      <td>100.000000</td>\n",
       "      <td>12.160000</td>\n",
       "      <td>1.623983e+09</td>\n",
       "    </tr>\n",
       "  </tbody>\n",
       "</table>\n",
       "</div>"
      ],
      "text/plain": [
       "         Latitude   Longitude   Max_Temps    Humidity  Cloudiness  Wind_Speed  \\\n",
       "count  548.000000  548.000000  548.000000  548.000000  548.000000  548.000000   \n",
       "mean    19.907407   16.398529  293.130657   69.854015   54.627737    3.442883   \n",
       "std     32.462807   93.069280    8.063128   21.502873   40.119749    2.390951   \n",
       "min    -54.800000 -179.166700  270.930000    7.000000    0.000000    0.000000   \n",
       "25%     -5.321975  -65.620375  287.390000   58.750000    9.000000    1.610000   \n",
       "50%     22.175950   22.285000  293.955000   74.500000   62.000000    2.895000   \n",
       "75%     46.352950  101.891400  299.465000   86.000000   98.000000    4.630000   \n",
       "max     78.218600  178.416700  315.320000  100.000000  100.000000   12.160000   \n",
       "\n",
       "               Date  \n",
       "count  5.480000e+02  \n",
       "mean   1.623982e+09  \n",
       "std    4.100902e+02  \n",
       "min    1.623981e+09  \n",
       "25%    1.623982e+09  \n",
       "50%    1.623982e+09  \n",
       "75%    1.623982e+09  \n",
       "max    1.623983e+09  "
      ]
     },
     "execution_count": 7,
     "metadata": {},
     "output_type": "execute_result"
    }
   ],
   "source": [
    "#Generate summary statistics\n",
    "weather_df.describe()"
   ]
  },
  {
   "cell_type": "code",
   "execution_count": 17,
   "metadata": {},
   "outputs": [
    {
     "data": {
      "text/html": [
       "<div>\n",
       "<style scoped>\n",
       "    .dataframe tbody tr th:only-of-type {\n",
       "        vertical-align: middle;\n",
       "    }\n",
       "\n",
       "    .dataframe tbody tr th {\n",
       "        vertical-align: top;\n",
       "    }\n",
       "\n",
       "    .dataframe thead th {\n",
       "        text-align: right;\n",
       "    }\n",
       "</style>\n",
       "<table border=\"1\" class=\"dataframe\">\n",
       "  <thead>\n",
       "    <tr style=\"text-align: right;\">\n",
       "      <th></th>\n",
       "      <th>City</th>\n",
       "      <th>Latitude</th>\n",
       "      <th>Longitude</th>\n",
       "      <th>Max_Temps</th>\n",
       "      <th>Humidity</th>\n",
       "      <th>Cloudiness</th>\n",
       "      <th>Wind_Speed</th>\n",
       "      <th>Country</th>\n",
       "      <th>Date</th>\n",
       "    </tr>\n",
       "  </thead>\n",
       "  <tbody>\n",
       "  </tbody>\n",
       "</table>\n",
       "</div>"
      ],
      "text/plain": [
       "Empty DataFrame\n",
       "Columns: [City, Latitude, Longitude, Max_Temps, Humidity, Cloudiness, Wind_Speed, Country, Date]\n",
       "Index: []"
      ]
     },
     "execution_count": 17,
     "metadata": {},
     "output_type": "execute_result"
    }
   ],
   "source": [
    "#  Get the indices of cities that have humidity over 100%.\n",
    "weather_df[weather_df['Humidity'] > 100]"
   ]
  },
  {
   "cell_type": "code",
   "execution_count": null,
   "metadata": {},
   "outputs": [],
   "source": [
    "# Make a new DataFrame equal to the city data to drop all humidity outliers by index.\n",
    "# Passing \"inplace=False\" will make a copy of the city_data DataFrame, which we call \"clean_city_data\".\n"
   ]
  },
  {
   "cell_type": "markdown",
   "metadata": {},
   "source": [
    "No data points with > 100% Humidity."
   ]
  },
  {
   "cell_type": "markdown",
   "metadata": {},
   "source": [
    "## Plotting the Data\n",
    "* Use proper labeling of the plots using plot titles (including date of analysis) and axes labels.\n",
    "* Save the plotted figures as .pngs."
   ]
  },
  {
   "cell_type": "code",
   "execution_count": 73,
   "metadata": {},
   "outputs": [
    {
     "data": {
      "text/html": [
       "<div>\n",
       "<style scoped>\n",
       "    .dataframe tbody tr th:only-of-type {\n",
       "        vertical-align: middle;\n",
       "    }\n",
       "\n",
       "    .dataframe tbody tr th {\n",
       "        vertical-align: top;\n",
       "    }\n",
       "\n",
       "    .dataframe thead th {\n",
       "        text-align: right;\n",
       "    }\n",
       "</style>\n",
       "<table border=\"1\" class=\"dataframe\">\n",
       "  <thead>\n",
       "    <tr style=\"text-align: right;\">\n",
       "      <th></th>\n",
       "      <th>City</th>\n",
       "      <th>Latitude</th>\n",
       "      <th>Longitude</th>\n",
       "      <th>Max_Temps</th>\n",
       "      <th>Humidity</th>\n",
       "      <th>Cloudiness</th>\n",
       "      <th>Wind_Speed</th>\n",
       "      <th>Country</th>\n",
       "      <th>Date</th>\n",
       "    </tr>\n",
       "  </thead>\n",
       "  <tbody>\n",
       "    <tr>\n",
       "      <th>0</th>\n",
       "      <td>Mackay</td>\n",
       "      <td>-21.1500</td>\n",
       "      <td>149.2000</td>\n",
       "      <td>297.62</td>\n",
       "      <td>35</td>\n",
       "      <td>4</td>\n",
       "      <td>4.12</td>\n",
       "      <td>AU</td>\n",
       "      <td>1623981388</td>\n",
       "    </tr>\n",
       "    <tr>\n",
       "      <th>1</th>\n",
       "      <td>Tromsø</td>\n",
       "      <td>69.6496</td>\n",
       "      <td>18.9570</td>\n",
       "      <td>282.51</td>\n",
       "      <td>93</td>\n",
       "      <td>75</td>\n",
       "      <td>0.00</td>\n",
       "      <td>NO</td>\n",
       "      <td>1623981391</td>\n",
       "    </tr>\n",
       "    <tr>\n",
       "      <th>2</th>\n",
       "      <td>Mataura</td>\n",
       "      <td>-46.1927</td>\n",
       "      <td>168.8643</td>\n",
       "      <td>281.19</td>\n",
       "      <td>75</td>\n",
       "      <td>7</td>\n",
       "      <td>3.24</td>\n",
       "      <td>NZ</td>\n",
       "      <td>1623981393</td>\n",
       "    </tr>\n",
       "    <tr>\n",
       "      <th>3</th>\n",
       "      <td>Chapleau</td>\n",
       "      <td>47.8405</td>\n",
       "      <td>-83.4034</td>\n",
       "      <td>295.20</td>\n",
       "      <td>49</td>\n",
       "      <td>75</td>\n",
       "      <td>3.09</td>\n",
       "      <td>CA</td>\n",
       "      <td>1623981396</td>\n",
       "    </tr>\n",
       "    <tr>\n",
       "      <th>4</th>\n",
       "      <td>Longyearbyen</td>\n",
       "      <td>78.2186</td>\n",
       "      <td>15.6401</td>\n",
       "      <td>277.06</td>\n",
       "      <td>65</td>\n",
       "      <td>75</td>\n",
       "      <td>5.66</td>\n",
       "      <td>SJ</td>\n",
       "      <td>1623981399</td>\n",
       "    </tr>\n",
       "    <tr>\n",
       "      <th>...</th>\n",
       "      <td>...</td>\n",
       "      <td>...</td>\n",
       "      <td>...</td>\n",
       "      <td>...</td>\n",
       "      <td>...</td>\n",
       "      <td>...</td>\n",
       "      <td>...</td>\n",
       "      <td>...</td>\n",
       "      <td>...</td>\n",
       "    </tr>\n",
       "    <tr>\n",
       "      <th>543</th>\n",
       "      <td>Truth or Consequences</td>\n",
       "      <td>33.1284</td>\n",
       "      <td>-107.2528</td>\n",
       "      <td>307.28</td>\n",
       "      <td>16</td>\n",
       "      <td>1</td>\n",
       "      <td>4.12</td>\n",
       "      <td>US</td>\n",
       "      <td>1623982763</td>\n",
       "    </tr>\n",
       "    <tr>\n",
       "      <th>544</th>\n",
       "      <td>Jiayuguan City</td>\n",
       "      <td>39.8167</td>\n",
       "      <td>98.3000</td>\n",
       "      <td>294.14</td>\n",
       "      <td>16</td>\n",
       "      <td>100</td>\n",
       "      <td>2.44</td>\n",
       "      <td>CN</td>\n",
       "      <td>1623982766</td>\n",
       "    </tr>\n",
       "    <tr>\n",
       "      <th>545</th>\n",
       "      <td>Itarema</td>\n",
       "      <td>-2.9248</td>\n",
       "      <td>-39.9167</td>\n",
       "      <td>299.22</td>\n",
       "      <td>83</td>\n",
       "      <td>16</td>\n",
       "      <td>5.16</td>\n",
       "      <td>BR</td>\n",
       "      <td>1623982768</td>\n",
       "    </tr>\n",
       "    <tr>\n",
       "      <th>546</th>\n",
       "      <td>Oriximiná</td>\n",
       "      <td>-1.7656</td>\n",
       "      <td>-55.8661</td>\n",
       "      <td>297.10</td>\n",
       "      <td>90</td>\n",
       "      <td>51</td>\n",
       "      <td>1.73</td>\n",
       "      <td>BR</td>\n",
       "      <td>1623982682</td>\n",
       "    </tr>\n",
       "    <tr>\n",
       "      <th>547</th>\n",
       "      <td>Jiazi</td>\n",
       "      <td>22.8779</td>\n",
       "      <td>116.0670</td>\n",
       "      <td>303.80</td>\n",
       "      <td>72</td>\n",
       "      <td>7</td>\n",
       "      <td>7.70</td>\n",
       "      <td>CN</td>\n",
       "      <td>1623982773</td>\n",
       "    </tr>\n",
       "  </tbody>\n",
       "</table>\n",
       "<p>548 rows × 9 columns</p>\n",
       "</div>"
      ],
      "text/plain": [
       "                      City  Latitude  Longitude  Max_Temps  Humidity  \\\n",
       "0                   Mackay  -21.1500   149.2000     297.62        35   \n",
       "1                   Tromsø   69.6496    18.9570     282.51        93   \n",
       "2                  Mataura  -46.1927   168.8643     281.19        75   \n",
       "3                 Chapleau   47.8405   -83.4034     295.20        49   \n",
       "4             Longyearbyen   78.2186    15.6401     277.06        65   \n",
       "..                     ...       ...        ...        ...       ...   \n",
       "543  Truth or Consequences   33.1284  -107.2528     307.28        16   \n",
       "544         Jiayuguan City   39.8167    98.3000     294.14        16   \n",
       "545                Itarema   -2.9248   -39.9167     299.22        83   \n",
       "546              Oriximiná   -1.7656   -55.8661     297.10        90   \n",
       "547                  Jiazi   22.8779   116.0670     303.80        72   \n",
       "\n",
       "     Cloudiness  Wind_Speed Country        Date  \n",
       "0             4        4.12      AU  1623981388  \n",
       "1            75        0.00      NO  1623981391  \n",
       "2             7        3.24      NZ  1623981393  \n",
       "3            75        3.09      CA  1623981396  \n",
       "4            75        5.66      SJ  1623981399  \n",
       "..          ...         ...     ...         ...  \n",
       "543           1        4.12      US  1623982763  \n",
       "544         100        2.44      CN  1623982766  \n",
       "545          16        5.16      BR  1623982768  \n",
       "546          51        1.73      BR  1623982682  \n",
       "547           7        7.70      CN  1623982773  \n",
       "\n",
       "[548 rows x 9 columns]"
      ]
     },
     "execution_count": 73,
     "metadata": {},
     "output_type": "execute_result"
    }
   ],
   "source": [
    "new_weather_df = weather_df\n",
    "new_weather_df"
   ]
  },
  {
   "cell_type": "code",
   "execution_count": 93,
   "metadata": {},
   "outputs": [
    {
     "data": {
      "text/html": [
       "<div>\n",
       "<style scoped>\n",
       "    .dataframe tbody tr th:only-of-type {\n",
       "        vertical-align: middle;\n",
       "    }\n",
       "\n",
       "    .dataframe tbody tr th {\n",
       "        vertical-align: top;\n",
       "    }\n",
       "\n",
       "    .dataframe thead th {\n",
       "        text-align: right;\n",
       "    }\n",
       "</style>\n",
       "<table border=\"1\" class=\"dataframe\">\n",
       "  <thead>\n",
       "    <tr style=\"text-align: right;\">\n",
       "      <th></th>\n",
       "      <th>City</th>\n",
       "      <th>Latitude</th>\n",
       "      <th>Longitude</th>\n",
       "      <th>Max_Temps</th>\n",
       "      <th>Humidity</th>\n",
       "      <th>Cloudiness</th>\n",
       "      <th>Wind_Speed</th>\n",
       "      <th>Country</th>\n",
       "      <th>Date</th>\n",
       "      <th>Max_Temps_in_Fahrenheit</th>\n",
       "      <th>Imperial_Wind_Speed</th>\n",
       "    </tr>\n",
       "  </thead>\n",
       "  <tbody>\n",
       "    <tr>\n",
       "      <th>0</th>\n",
       "      <td>Mackay</td>\n",
       "      <td>-21.1500</td>\n",
       "      <td>149.2000</td>\n",
       "      <td>297.62</td>\n",
       "      <td>35</td>\n",
       "      <td>4</td>\n",
       "      <td>4.12</td>\n",
       "      <td>AU</td>\n",
       "      <td>1623981388</td>\n",
       "      <td>76.05</td>\n",
       "      <td>9.23</td>\n",
       "    </tr>\n",
       "    <tr>\n",
       "      <th>1</th>\n",
       "      <td>Tromsø</td>\n",
       "      <td>69.6496</td>\n",
       "      <td>18.9570</td>\n",
       "      <td>282.51</td>\n",
       "      <td>93</td>\n",
       "      <td>75</td>\n",
       "      <td>0.00</td>\n",
       "      <td>NO</td>\n",
       "      <td>1623981391</td>\n",
       "      <td>48.85</td>\n",
       "      <td>0.00</td>\n",
       "    </tr>\n",
       "    <tr>\n",
       "      <th>2</th>\n",
       "      <td>Mataura</td>\n",
       "      <td>-46.1927</td>\n",
       "      <td>168.8643</td>\n",
       "      <td>281.19</td>\n",
       "      <td>75</td>\n",
       "      <td>7</td>\n",
       "      <td>3.24</td>\n",
       "      <td>NZ</td>\n",
       "      <td>1623981393</td>\n",
       "      <td>46.47</td>\n",
       "      <td>7.26</td>\n",
       "    </tr>\n",
       "    <tr>\n",
       "      <th>3</th>\n",
       "      <td>Chapleau</td>\n",
       "      <td>47.8405</td>\n",
       "      <td>-83.4034</td>\n",
       "      <td>295.20</td>\n",
       "      <td>49</td>\n",
       "      <td>75</td>\n",
       "      <td>3.09</td>\n",
       "      <td>CA</td>\n",
       "      <td>1623981396</td>\n",
       "      <td>71.69</td>\n",
       "      <td>6.92</td>\n",
       "    </tr>\n",
       "    <tr>\n",
       "      <th>4</th>\n",
       "      <td>Longyearbyen</td>\n",
       "      <td>78.2186</td>\n",
       "      <td>15.6401</td>\n",
       "      <td>277.06</td>\n",
       "      <td>65</td>\n",
       "      <td>75</td>\n",
       "      <td>5.66</td>\n",
       "      <td>SJ</td>\n",
       "      <td>1623981399</td>\n",
       "      <td>39.04</td>\n",
       "      <td>12.68</td>\n",
       "    </tr>\n",
       "  </tbody>\n",
       "</table>\n",
       "</div>"
      ],
      "text/plain": [
       "           City  Latitude  Longitude  Max_Temps  Humidity  Cloudiness  \\\n",
       "0        Mackay  -21.1500   149.2000     297.62        35           4   \n",
       "1        Tromsø   69.6496    18.9570     282.51        93          75   \n",
       "2       Mataura  -46.1927   168.8643     281.19        75           7   \n",
       "3      Chapleau   47.8405   -83.4034     295.20        49          75   \n",
       "4  Longyearbyen   78.2186    15.6401     277.06        65          75   \n",
       "\n",
       "   Wind_Speed Country        Date  Max_Temps_in_Fahrenheit  \\\n",
       "0        4.12      AU  1623981388                    76.05   \n",
       "1        0.00      NO  1623981391                    48.85   \n",
       "2        3.24      NZ  1623981393                    46.47   \n",
       "3        3.09      CA  1623981396                    71.69   \n",
       "4        5.66      SJ  1623981399                    39.04   \n",
       "\n",
       "   Imperial_Wind_Speed  \n",
       "0                 9.23  \n",
       "1                 0.00  \n",
       "2                 7.26  \n",
       "3                 6.92  \n",
       "4                12.68  "
      ]
     },
     "execution_count": 93,
     "metadata": {},
     "output_type": "execute_result"
    }
   ],
   "source": [
    "#Create new Max Temps (F) column\n",
    "f_temp = (new_weather_df['Max_Temps']-273.15)*(9/5)+32\n",
    "new_weather_df['Max_Temps_in_Fahrenheit'] = round(f_temp,2)\n",
    "new_weather_df.head()"
   ]
  },
  {
   "cell_type": "code",
   "execution_count": 94,
   "metadata": {},
   "outputs": [
    {
     "data": {
      "text/html": [
       "<div>\n",
       "<style scoped>\n",
       "    .dataframe tbody tr th:only-of-type {\n",
       "        vertical-align: middle;\n",
       "    }\n",
       "\n",
       "    .dataframe tbody tr th {\n",
       "        vertical-align: top;\n",
       "    }\n",
       "\n",
       "    .dataframe thead th {\n",
       "        text-align: right;\n",
       "    }\n",
       "</style>\n",
       "<table border=\"1\" class=\"dataframe\">\n",
       "  <thead>\n",
       "    <tr style=\"text-align: right;\">\n",
       "      <th></th>\n",
       "      <th>City</th>\n",
       "      <th>Latitude</th>\n",
       "      <th>Longitude</th>\n",
       "      <th>Max_Temps</th>\n",
       "      <th>Humidity</th>\n",
       "      <th>Cloudiness</th>\n",
       "      <th>Wind_Speed</th>\n",
       "      <th>Country</th>\n",
       "      <th>Date</th>\n",
       "      <th>Max_Temps_in_Fahrenheit</th>\n",
       "      <th>Imperial_Wind_Speed</th>\n",
       "    </tr>\n",
       "  </thead>\n",
       "  <tbody>\n",
       "    <tr>\n",
       "      <th>0</th>\n",
       "      <td>Mackay</td>\n",
       "      <td>-21.1500</td>\n",
       "      <td>149.2000</td>\n",
       "      <td>297.62</td>\n",
       "      <td>35</td>\n",
       "      <td>4</td>\n",
       "      <td>4.12</td>\n",
       "      <td>AU</td>\n",
       "      <td>1623981388</td>\n",
       "      <td>76.05</td>\n",
       "      <td>9.23</td>\n",
       "    </tr>\n",
       "    <tr>\n",
       "      <th>1</th>\n",
       "      <td>Tromsø</td>\n",
       "      <td>69.6496</td>\n",
       "      <td>18.9570</td>\n",
       "      <td>282.51</td>\n",
       "      <td>93</td>\n",
       "      <td>75</td>\n",
       "      <td>0.00</td>\n",
       "      <td>NO</td>\n",
       "      <td>1623981391</td>\n",
       "      <td>48.85</td>\n",
       "      <td>0.00</td>\n",
       "    </tr>\n",
       "    <tr>\n",
       "      <th>2</th>\n",
       "      <td>Mataura</td>\n",
       "      <td>-46.1927</td>\n",
       "      <td>168.8643</td>\n",
       "      <td>281.19</td>\n",
       "      <td>75</td>\n",
       "      <td>7</td>\n",
       "      <td>3.24</td>\n",
       "      <td>NZ</td>\n",
       "      <td>1623981393</td>\n",
       "      <td>46.47</td>\n",
       "      <td>7.26</td>\n",
       "    </tr>\n",
       "    <tr>\n",
       "      <th>3</th>\n",
       "      <td>Chapleau</td>\n",
       "      <td>47.8405</td>\n",
       "      <td>-83.4034</td>\n",
       "      <td>295.20</td>\n",
       "      <td>49</td>\n",
       "      <td>75</td>\n",
       "      <td>3.09</td>\n",
       "      <td>CA</td>\n",
       "      <td>1623981396</td>\n",
       "      <td>71.69</td>\n",
       "      <td>6.92</td>\n",
       "    </tr>\n",
       "    <tr>\n",
       "      <th>4</th>\n",
       "      <td>Longyearbyen</td>\n",
       "      <td>78.2186</td>\n",
       "      <td>15.6401</td>\n",
       "      <td>277.06</td>\n",
       "      <td>65</td>\n",
       "      <td>75</td>\n",
       "      <td>5.66</td>\n",
       "      <td>SJ</td>\n",
       "      <td>1623981399</td>\n",
       "      <td>39.04</td>\n",
       "      <td>12.68</td>\n",
       "    </tr>\n",
       "  </tbody>\n",
       "</table>\n",
       "</div>"
      ],
      "text/plain": [
       "           City  Latitude  Longitude  Max_Temps  Humidity  Cloudiness  \\\n",
       "0        Mackay  -21.1500   149.2000     297.62        35           4   \n",
       "1        Tromsø   69.6496    18.9570     282.51        93          75   \n",
       "2       Mataura  -46.1927   168.8643     281.19        75           7   \n",
       "3      Chapleau   47.8405   -83.4034     295.20        49          75   \n",
       "4  Longyearbyen   78.2186    15.6401     277.06        65          75   \n",
       "\n",
       "   Wind_Speed Country        Date  Max_Temps_in_Fahrenheit  \\\n",
       "0        4.12      AU  1623981388                    76.05   \n",
       "1        0.00      NO  1623981391                    48.85   \n",
       "2        3.24      NZ  1623981393                    46.47   \n",
       "3        3.09      CA  1623981396                    71.69   \n",
       "4        5.66      SJ  1623981399                    39.04   \n",
       "\n",
       "   Imperial_Wind_Speed  \n",
       "0                 9.23  \n",
       "1                 0.00  \n",
       "2                 7.26  \n",
       "3                 6.92  \n",
       "4                12.68  "
      ]
     },
     "execution_count": 94,
     "metadata": {},
     "output_type": "execute_result"
    }
   ],
   "source": [
    "#Create new Wind Speed (imperial) column\n",
    "i_wind_speed = new_weather_df['Wind_Speed']*2.24\n",
    "new_weather_df['Imperial_Wind_Speed'] = round(i_wind_speed,2)\n",
    "new_weather_df.head()"
   ]
  },
  {
   "cell_type": "code",
   "execution_count": 28,
   "metadata": {},
   "outputs": [],
   "source": [
    "#Import dependencies\n",
    "from datetime import date\n",
    "from datetime import time\n",
    "from datetime import datetime"
   ]
  },
  {
   "cell_type": "code",
   "execution_count": 35,
   "metadata": {},
   "outputs": [
    {
     "name": "stdout",
     "output_type": "stream",
     "text": [
      "2021-06-17\n"
     ]
    }
   ],
   "source": [
    "#Date conversion (reference: https://www.kite.com/python/\n",
    "#answers/how-to-convert-between-utc-and-local-time-in-python)\n",
    "UTC_date = weather_df['Date'][0]\n",
    "date_converted = date.fromtimestamp(UTC_datetime)\n",
    "print(date_converted)"
   ]
  },
  {
   "cell_type": "markdown",
   "metadata": {},
   "source": [
    "## Latitude vs. Temperature Plot"
   ]
  },
  {
   "cell_type": "code",
   "execution_count": 97,
   "metadata": {
    "scrolled": true
   },
   "outputs": [
    {
     "data": {
      "image/png": "[encoded data removed]",
      "text/plain": [
       "<Figure size 576x576 with 1 Axes>"
      ]
     },
     "metadata": {
      "needs_background": "light"
     },
     "output_type": "display_data"
    },
    {
     "data": {
      "text/plain": [
       "<Figure size 432x288 with 0 Axes>"
      ]
     },
     "metadata": {},
     "output_type": "display_data"
    }
   ],
   "source": [
    "new_weather_df.plot(kind='scatter', x='Latitude', y='Max_Temps_in_Fahrenheit', grid=True, \n",
    "                figsize=(8,8), title= f'Max Temperature (F) vs. Latitude ({date_converted})',\n",
    "                xlabel='Latitude', ylabel='Max Temperature (Fahrenheit)')\n",
    "plt.show()\n",
    "plt.savefig(\"MaxTemps_vs_Latitude\")"
   ]
  },
  {
   "cell_type": "markdown",
   "metadata": {},
   "source": [
    "With the Latitude vs. Temperature plot, I find that cities with the highest 'Max Temperatures' have a latitude between 0 and 40."
   ]
  },
  {
   "cell_type": "markdown",
   "metadata": {},
   "source": [
    "## Latitude vs. Humidity Plot"
   ]
  },
  {
   "cell_type": "code",
   "execution_count": 89,
   "metadata": {},
   "outputs": [
    {
     "data": {
      "image/png": "[encoded data removed]",
      "text/plain": [
       "<Figure size 576x576 with 1 Axes>"
      ]
     },
     "metadata": {
      "needs_background": "light"
     },
     "output_type": "display_data"
    },
    {
     "data": {
      "text/plain": [
       "<Figure size 432x288 with 0 Axes>"
      ]
     },
     "metadata": {},
     "output_type": "display_data"
    }
   ],
   "source": [
    "new_weather_df.plot(kind='scatter', x='Latitude', y='Humidity', grid=True, \n",
    "                figsize=(8,8), title= f'Humidity (%) vs. Latitude ({date_converted})',\n",
    "                xlabel='Latitude', ylabel='Humidity (%)')\n",
    "plt.show()\n",
    "plt.savefig(\"Humidity_vs_Latitude\")"
   ]
  },
  {
   "cell_type": "markdown",
   "metadata": {},
   "source": [
    "According to the Latitude vs. Humidity plot, it appears that cities farther away from to the equator have a wider range of humidity. Therefore, cities closer to the equator tend to be more humid."
   ]
  },
  {
   "cell_type": "markdown",
   "metadata": {},
   "source": [
    "## Latitude vs. Cloudiness Plot"
   ]
  },
  {
   "cell_type": "code",
   "execution_count": 90,
   "metadata": {},
   "outputs": [
    {
     "data": {
      "image/png": "[encoded data removed]",
      "text/plain": [
       "<Figure size 576x576 with 1 Axes>"
      ]
     },
     "metadata": {
      "needs_background": "light"
     },
     "output_type": "display_data"
    },
    {
     "data": {
      "text/plain": [
       "<Figure size 432x288 with 0 Axes>"
      ]
     },
     "metadata": {},
     "output_type": "display_data"
    }
   ],
   "source": [
    "new_weather_df.plot(kind='scatter', x='Latitude', y='Cloudiness', grid=True, \n",
    "                figsize=(8,8), title= f'Cloudiness (%) vs. Latitude ({date_converted})',\n",
    "                xlabel='Latitude', ylabel='Cloudiness (%)')\n",
    "plt.show()\n",
    "plt.savefig(\"Cloudiness_vs_Latitude\")"
   ]
  },
  {
   "cell_type": "code",
   "execution_count": null,
   "metadata": {},
   "outputs": [],
   "source": [
    "According to the Latitude vs. Cloudiness plot, it appears that cities tend to have\n",
    "a higher probability of either being 0% or 100%."
   ]
  },
  {
   "cell_type": "markdown",
   "metadata": {},
   "source": [
    "## Latitude vs. Wind Speed Plot"
   ]
  },
  {
   "cell_type": "code",
   "execution_count": 96,
   "metadata": {},
   "outputs": [
    {
     "data": {
      "image/png": "[encoded data removed]",
      "text/plain": [
       "<Figure size 576x576 with 1 Axes>"
      ]
     },
     "metadata": {
      "needs_background": "light"
     },
     "output_type": "display_data"
    },
    {
     "data": {
      "text/plain": [
       "<Figure size 432x288 with 0 Axes>"
      ]
     },
     "metadata": {},
     "output_type": "display_data"
    }
   ],
   "source": [
    "new_weather_df.plot(kind='scatter', x='Latitude', y='Imperial_Wind_Speed', grid=True, \n",
    "                figsize=(8,8), title= f'Wind Speed (Miles/Hour) vs. Latitude ({date_converted})',\n",
    "                xlabel='Latitude', ylabel='Wind Speed (Miles/Hour)')\n",
    "plt.show()\n",
    "plt.savefig(\"WindSpeed_vs_Latitude\")"
   ]
  },
  {
   "cell_type": "code",
   "execution_count": null,
   "metadata": {},
   "outputs": [],
   "source": [
    "According to the Latitude vs. Wind Speed plot,  majority of cities experience wind speeds\n",
    "below 10 Mphs. As Latitude increases top wind speeds decrease."
   ]
  },
  {
   "cell_type": "markdown",
   "metadata": {},
   "source": [
    "## Linear Regression"
   ]
  },
  {
   "cell_type": "code",
   "execution_count": 104,
   "metadata": {},
   "outputs": [
    {
     "data": {
      "text/html": [
       "<div>\n",
       "<style scoped>\n",
       "    .dataframe tbody tr th:only-of-type {\n",
       "        vertical-align: middle;\n",
       "    }\n",
       "\n",
       "    .dataframe tbody tr th {\n",
       "        vertical-align: top;\n",
       "    }\n",
       "\n",
       "    .dataframe thead th {\n",
       "        text-align: right;\n",
       "    }\n",
       "</style>\n",
       "<table border=\"1\" class=\"dataframe\">\n",
       "  <thead>\n",
       "    <tr style=\"text-align: right;\">\n",
       "      <th></th>\n",
       "      <th>City</th>\n",
       "      <th>Latitude</th>\n",
       "      <th>Longitude</th>\n",
       "      <th>Max_Temps</th>\n",
       "      <th>Humidity</th>\n",
       "      <th>Cloudiness</th>\n",
       "      <th>Wind_Speed</th>\n",
       "      <th>Country</th>\n",
       "      <th>Date</th>\n",
       "      <th>Max_Temps_in_Fahrenheit</th>\n",
       "      <th>Imperial_Wind_Speed</th>\n",
       "    </tr>\n",
       "  </thead>\n",
       "  <tbody>\n",
       "    <tr>\n",
       "      <th>1</th>\n",
       "      <td>Tromsø</td>\n",
       "      <td>69.6496</td>\n",
       "      <td>18.9570</td>\n",
       "      <td>282.51</td>\n",
       "      <td>93</td>\n",
       "      <td>75</td>\n",
       "      <td>0.00</td>\n",
       "      <td>NO</td>\n",
       "      <td>1623981391</td>\n",
       "      <td>48.85</td>\n",
       "      <td>0.00</td>\n",
       "    </tr>\n",
       "    <tr>\n",
       "      <th>3</th>\n",
       "      <td>Chapleau</td>\n",
       "      <td>47.8405</td>\n",
       "      <td>-83.4034</td>\n",
       "      <td>295.20</td>\n",
       "      <td>49</td>\n",
       "      <td>75</td>\n",
       "      <td>3.09</td>\n",
       "      <td>CA</td>\n",
       "      <td>1623981396</td>\n",
       "      <td>71.69</td>\n",
       "      <td>6.92</td>\n",
       "    </tr>\n",
       "    <tr>\n",
       "      <th>4</th>\n",
       "      <td>Longyearbyen</td>\n",
       "      <td>78.2186</td>\n",
       "      <td>15.6401</td>\n",
       "      <td>277.06</td>\n",
       "      <td>65</td>\n",
       "      <td>75</td>\n",
       "      <td>5.66</td>\n",
       "      <td>SJ</td>\n",
       "      <td>1623981399</td>\n",
       "      <td>39.04</td>\n",
       "      <td>12.68</td>\n",
       "    </tr>\n",
       "    <tr>\n",
       "      <th>5</th>\n",
       "      <td>Chokurdakh</td>\n",
       "      <td>70.6333</td>\n",
       "      <td>147.9167</td>\n",
       "      <td>283.86</td>\n",
       "      <td>47</td>\n",
       "      <td>100</td>\n",
       "      <td>2.30</td>\n",
       "      <td>RU</td>\n",
       "      <td>1623981401</td>\n",
       "      <td>51.28</td>\n",
       "      <td>5.15</td>\n",
       "    </tr>\n",
       "    <tr>\n",
       "      <th>6</th>\n",
       "      <td>George Town</td>\n",
       "      <td>5.4112</td>\n",
       "      <td>100.3354</td>\n",
       "      <td>302.11</td>\n",
       "      <td>83</td>\n",
       "      <td>20</td>\n",
       "      <td>0.89</td>\n",
       "      <td>MY</td>\n",
       "      <td>1623981110</td>\n",
       "      <td>84.13</td>\n",
       "      <td>1.99</td>\n",
       "    </tr>\n",
       "  </tbody>\n",
       "</table>\n",
       "</div>"
      ],
      "text/plain": [
       "           City  Latitude  Longitude  Max_Temps  Humidity  Cloudiness  \\\n",
       "1        Tromsø   69.6496    18.9570     282.51        93          75   \n",
       "3      Chapleau   47.8405   -83.4034     295.20        49          75   \n",
       "4  Longyearbyen   78.2186    15.6401     277.06        65          75   \n",
       "5    Chokurdakh   70.6333   147.9167     283.86        47         100   \n",
       "6   George Town    5.4112   100.3354     302.11        83          20   \n",
       "\n",
       "   Wind_Speed Country        Date  Max_Temps_in_Fahrenheit  \\\n",
       "1        0.00      NO  1623981391                    48.85   \n",
       "3        3.09      CA  1623981396                    71.69   \n",
       "4        5.66      SJ  1623981399                    39.04   \n",
       "5        2.30      RU  1623981401                    51.28   \n",
       "6        0.89      MY  1623981110                    84.13   \n",
       "\n",
       "   Imperial_Wind_Speed  \n",
       "1                 0.00  \n",
       "3                 6.92  \n",
       "4                12.68  \n",
       "5                 5.15  \n",
       "6                 1.99  "
      ]
     },
     "execution_count": 104,
     "metadata": {},
     "output_type": "execute_result"
    }
   ],
   "source": [
    "#Creation of df containing cities in Northern Hemisphere\n",
    "n_hemi_df = weather_df[weather_df['Latitude'] > 0]\n",
    "n_hemi_df.head()"
   ]
  },
  {
   "cell_type": "code",
   "execution_count": 106,
   "metadata": {},
   "outputs": [
    {
     "data": {
      "text/html": [
       "<div>\n",
       "<style scoped>\n",
       "    .dataframe tbody tr th:only-of-type {\n",
       "        vertical-align: middle;\n",
       "    }\n",
       "\n",
       "    .dataframe tbody tr th {\n",
       "        vertical-align: top;\n",
       "    }\n",
       "\n",
       "    .dataframe thead th {\n",
       "        text-align: right;\n",
       "    }\n",
       "</style>\n",
       "<table border=\"1\" class=\"dataframe\">\n",
       "  <thead>\n",
       "    <tr style=\"text-align: right;\">\n",
       "      <th></th>\n",
       "      <th>City</th>\n",
       "      <th>Latitude</th>\n",
       "      <th>Longitude</th>\n",
       "      <th>Max_Temps</th>\n",
       "      <th>Humidity</th>\n",
       "      <th>Cloudiness</th>\n",
       "      <th>Wind_Speed</th>\n",
       "      <th>Country</th>\n",
       "      <th>Date</th>\n",
       "      <th>Max_Temps_in_Fahrenheit</th>\n",
       "      <th>Imperial_Wind_Speed</th>\n",
       "    </tr>\n",
       "  </thead>\n",
       "  <tbody>\n",
       "    <tr>\n",
       "      <th>0</th>\n",
       "      <td>Mackay</td>\n",
       "      <td>-21.1500</td>\n",
       "      <td>149.2000</td>\n",
       "      <td>297.62</td>\n",
       "      <td>35</td>\n",
       "      <td>4</td>\n",
       "      <td>4.12</td>\n",
       "      <td>AU</td>\n",
       "      <td>1623981388</td>\n",
       "      <td>76.05</td>\n",
       "      <td>9.23</td>\n",
       "    </tr>\n",
       "    <tr>\n",
       "      <th>2</th>\n",
       "      <td>Mataura</td>\n",
       "      <td>-46.1927</td>\n",
       "      <td>168.8643</td>\n",
       "      <td>281.19</td>\n",
       "      <td>75</td>\n",
       "      <td>7</td>\n",
       "      <td>3.24</td>\n",
       "      <td>NZ</td>\n",
       "      <td>1623981393</td>\n",
       "      <td>46.47</td>\n",
       "      <td>7.26</td>\n",
       "    </tr>\n",
       "    <tr>\n",
       "      <th>8</th>\n",
       "      <td>Avarua</td>\n",
       "      <td>-21.2078</td>\n",
       "      <td>-159.7750</td>\n",
       "      <td>300.18</td>\n",
       "      <td>78</td>\n",
       "      <td>75</td>\n",
       "      <td>4.63</td>\n",
       "      <td>CK</td>\n",
       "      <td>1623981408</td>\n",
       "      <td>80.65</td>\n",
       "      <td>10.37</td>\n",
       "    </tr>\n",
       "    <tr>\n",
       "      <th>10</th>\n",
       "      <td>Buala</td>\n",
       "      <td>-8.1450</td>\n",
       "      <td>159.5921</td>\n",
       "      <td>302.41</td>\n",
       "      <td>69</td>\n",
       "      <td>15</td>\n",
       "      <td>4.77</td>\n",
       "      <td>SB</td>\n",
       "      <td>1623981413</td>\n",
       "      <td>84.67</td>\n",
       "      <td>10.68</td>\n",
       "    </tr>\n",
       "    <tr>\n",
       "      <th>14</th>\n",
       "      <td>New Norfolk</td>\n",
       "      <td>-42.7826</td>\n",
       "      <td>147.0587</td>\n",
       "      <td>287.36</td>\n",
       "      <td>88</td>\n",
       "      <td>100</td>\n",
       "      <td>0.45</td>\n",
       "      <td>AU</td>\n",
       "      <td>1623981424</td>\n",
       "      <td>57.58</td>\n",
       "      <td>1.01</td>\n",
       "    </tr>\n",
       "  </tbody>\n",
       "</table>\n",
       "</div>"
      ],
      "text/plain": [
       "           City  Latitude  Longitude  Max_Temps  Humidity  Cloudiness  \\\n",
       "0        Mackay  -21.1500   149.2000     297.62        35           4   \n",
       "2       Mataura  -46.1927   168.8643     281.19        75           7   \n",
       "8        Avarua  -21.2078  -159.7750     300.18        78          75   \n",
       "10        Buala   -8.1450   159.5921     302.41        69          15   \n",
       "14  New Norfolk  -42.7826   147.0587     287.36        88         100   \n",
       "\n",
       "    Wind_Speed Country        Date  Max_Temps_in_Fahrenheit  \\\n",
       "0         4.12      AU  1623981388                    76.05   \n",
       "2         3.24      NZ  1623981393                    46.47   \n",
       "8         4.63      CK  1623981408                    80.65   \n",
       "10        4.77      SB  1623981413                    84.67   \n",
       "14        0.45      AU  1623981424                    57.58   \n",
       "\n",
       "    Imperial_Wind_Speed  \n",
       "0                  9.23  \n",
       "2                  7.26  \n",
       "8                 10.37  \n",
       "10                10.68  \n",
       "14                 1.01  "
      ]
     },
     "execution_count": 106,
     "metadata": {},
     "output_type": "execute_result"
    }
   ],
   "source": [
    "#Creation of df containing cities in Southern Hemisphere\n",
    "s_hemi_df = weather_df[weather_df['Latitude'] < 0]\n",
    "s_hemi_df.head()"
   ]
  },
  {
   "cell_type": "code",
   "execution_count": 114,
   "metadata": {},
   "outputs": [],
   "source": [
    "#Import dependencies\n",
    "from scipy.stats import linregress\n",
    "from sklearn import datasets\n",
    "import scipy.stats as st"
   ]
  },
  {
   "cell_type": "markdown",
   "metadata": {},
   "source": [
    "####  Northern Hemisphere - Max Temp vs. Latitude Linear Regression"
   ]
  },
  {
   "cell_type": "code",
   "execution_count": 172,
   "metadata": {},
   "outputs": [
    {
     "name": "stdout",
     "output_type": "stream",
     "text": [
      "The r-squared is: 0.42\n",
      "The correlation between mouse weight and the average tumor volume is, -0.65\n"
     ]
    },
    {
     "data": {
      "image/png": "[encoded data removed]",
      "text/plain": [
       "<Figure size 432x288 with 1 Axes>"
      ]
     },
     "metadata": {
      "needs_background": "light"
     },
     "output_type": "display_data"
    },
    {
     "data": {
      "text/plain": [
       "<Figure size 432x288 with 0 Axes>"
      ]
     },
     "metadata": {},
     "output_type": "display_data"
    }
   ],
   "source": [
    "# Print out the r-squared value along with the plot.\n",
    "x_values = n_hemi_df['Latitude']\n",
    "y_values = n_hemi_df['Max_Temps_in_Fahrenheit']\n",
    "correlation = st.pearsonr(x_values,y_values)\n",
    "(slope, intercept, rvalue, pvalue, stderr) = linregress(x_values, y_values)\n",
    "regress_values = x_values * slope + intercept\n",
    "line_eq = \"y = \" + str(round(slope,2)) + \"x + \" + str(round(intercept,2))\n",
    "plt.scatter(x_values,y_values)\n",
    "plt.plot(x_values,regress_values,\"r-\")\n",
    "plt.annotate(line_eq,(0,40),fontsize=15,color=\"red\")\n",
    "plt.xlabel('Latitude')\n",
    "plt.ylabel('Max Temperature (Fahrenheit)')\n",
    "plt.title(f'N.Hemisphere - Max Temp vs. Latitude Linear Regression ({date_converted})')\n",
    "print(f\"The r-squared is: {round(rvalue**2,2)}\")\n",
    "print(f'The correlation between mouse weight and the average tumor volume is, {round(correlation[0],2)}')\n",
    "plt.show()\n",
    "plt.savefig(\"NHemi_MaxTemp_vs_Latitude_LRegression\")"
   ]
  },
  {
   "cell_type": "markdown",
   "metadata": {},
   "source": [
    "According the r-squared generated, 42% of the variation found in 'Max Temps' of cities in the N. Hemisphere, can be explained by 'Latitiude'. As for correlation (-.65), there appears to be a fairly strong inverse relationship between 'Latitude' and 'Max Temps' in the N. Hemisphere, during this time of the year."
   ]
  },
  {
   "cell_type": "markdown",
   "metadata": {},
   "source": [
    "####  Southern Hemisphere - Max Temp vs. Latitude Linear Regression"
   ]
  },
  {
   "cell_type": "code",
   "execution_count": 173,
   "metadata": {},
   "outputs": [
    {
     "name": "stdout",
     "output_type": "stream",
     "text": [
      "The r-squared is: 0.62\n",
      "The correlation between mouse weight and the average tumor volume is, 0.79\n"
     ]
    },
    {
     "data": {
      "image/png": "[encoded data removed]",
      "text/plain": [
       "<Figure size 432x288 with 1 Axes>"
      ]
     },
     "metadata": {
      "needs_background": "light"
     },
     "output_type": "display_data"
    },
    {
     "data": {
      "text/plain": [
       "<Figure size 432x288 with 0 Axes>"
      ]
     },
     "metadata": {},
     "output_type": "display_data"
    }
   ],
   "source": [
    "# Print out the r-squared value along with the plot.\n",
    "x_values = s_hemi_df['Latitude']\n",
    "y_values = s_hemi_df['Max_Temps_in_Fahrenheit']\n",
    "correlation = st.pearsonr(x_values,y_values)\n",
    "(slope, intercept, rvalue, pvalue, stderr) = linregress(x_values, y_values)\n",
    "regress_values = x_values * slope + intercept\n",
    "line_eq = \"y = \" + str(round(slope,2)) + \"x + \" + str(round(intercept,2))\n",
    "plt.scatter(x_values,y_values)\n",
    "plt.plot(x_values,regress_values,\"r-\")\n",
    "plt.annotate(line_eq,(-30,30),fontsize=15,color=\"red\")\n",
    "plt.xlabel('Latitude')\n",
    "plt.ylabel('Max Temperature (Fahrenheit)')\n",
    "plt.title(f'S.Hemisphere - Max Temp vs. Latitude Linear Regression ({date_converted})')\n",
    "print(f\"The r-squared is: {round(rvalue**2,2)}\")\n",
    "print(f'The correlation between mouse weight and the average tumor volume is, {round(correlation[0],2)}')\n",
    "plt.show()\n",
    "plt.savefig(\"SHemi_MaxTemp_vs_Lat_LReg\")"
   ]
  },
  {
   "cell_type": "markdown",
   "metadata": {},
   "source": [
    "According the r-squared generated, 62% of the variation found in 'Max Temps' of cities in the S. Hemisphere can be explained by 'Latitiude'. As for correlation (.79), there appears to be a\n",
    "fairly strong positive relationship between 'Latitude' and 'Max Temps' in the S. Hemisphere,\n",
    "during this time of the year."
   ]
  },
  {
   "cell_type": "markdown",
   "metadata": {},
   "source": [
    "####  Northern Hemisphere - Humidity (%) vs. Latitude Linear Regression"
   ]
  },
  {
   "cell_type": "code",
   "execution_count": 174,
   "metadata": {},
   "outputs": [
    {
     "name": "stdout",
     "output_type": "stream",
     "text": [
      "The r-squared is: 0.01\n",
      "The correlation between mouse weight and the average tumor volume is, -0.09\n"
     ]
    },
    {
     "data": {
      "image/png": "[encoded data removed]",
      "text/plain": [
       "<Figure size 432x288 with 1 Axes>"
      ]
     },
     "metadata": {
      "needs_background": "light"
     },
     "output_type": "display_data"
    },
    {
     "data": {
      "text/plain": [
       "<Figure size 432x288 with 0 Axes>"
      ]
     },
     "metadata": {},
     "output_type": "display_data"
    }
   ],
   "source": [
    "# Print out the r-squared value along with the plot.\n",
    "x_values = n_hemi_df['Latitude']\n",
    "y_values = n_hemi_df['Humidity']\n",
    "correlation = st.pearsonr(x_values,y_values)\n",
    "(slope, intercept, rvalue, pvalue, stderr) = linregress(x_values, y_values)\n",
    "regress_values = x_values * slope + intercept\n",
    "line_eq = \"y = \" + str(round(slope,2)) + \"x + \" + str(round(intercept,2))\n",
    "plt.scatter(x_values,y_values)\n",
    "plt.plot(x_values,regress_values,\"r-\")\n",
    "plt.annotate(line_eq,(45,10),fontsize=15,color=\"red\")\n",
    "plt.xlabel('Latitude')\n",
    "plt.ylabel('Humidity (%)')\n",
    "plt.title(f'N. Hemisphere - Humidity (%) vs. Latitude Linear Regression ({date_converted})')\n",
    "print(f\"The r-squared is: {round(rvalue**2,2)}\")\n",
    "print(f'The correlation between mouse weight and the average tumor volume is, {round(correlation[0],2)}')\n",
    "plt.show()\n",
    "plt.savefig(\"NHemi_Humidity_vs_Lat_LReg\")"
   ]
  },
  {
   "cell_type": "markdown",
   "metadata": {},
   "source": [
    "According the r-squared generated, .01% of the variation found in 'Humidity' of cities in the N. Hemisphere, can be explained by 'Latitiude'. As for correlation (-.09), there appears to be\n",
    "a slight (very weak) inverse relationship between 'Latitude' and 'Humidity' in the \n",
    "N. Hemisphere,during this time of the year."
   ]
  },
  {
   "cell_type": "markdown",
   "metadata": {},
   "source": [
    "####  Southern Hemisphere - Humidity (%) vs. Latitude Linear Regression"
   ]
  },
  {
   "cell_type": "code",
   "execution_count": 177,
   "metadata": {},
   "outputs": [
    {
     "name": "stdout",
     "output_type": "stream",
     "text": [
      "The r-squared is: 0.01\n",
      "The correlation between mouse weight and the average tumor volume is,0.09\n"
     ]
    },
    {
     "data": {
      "image/png": "[encoded data removed]",
      "text/plain": [
       "<Figure size 432x288 with 1 Axes>"
      ]
     },
     "metadata": {
      "needs_background": "light"
     },
     "output_type": "display_data"
    },
    {
     "data": {
      "text/plain": [
       "<Figure size 432x288 with 0 Axes>"
      ]
     },
     "metadata": {},
     "output_type": "display_data"
    }
   ],
   "source": [
    "# Print out the r-squared value along with the plot.\n",
    "x_values = s_hemi_df['Latitude']\n",
    "y_values = s_hemi_df['Humidity']\n",
    "correlation = st.pearsonr(x_values,y_values)\n",
    "(slope, intercept, rvalue, pvalue, stderr) = linregress(x_values, y_values)\n",
    "regress_values = x_values * slope + intercept\n",
    "line_eq = \"y = \" + str(round(slope,2)) + \"x + \" + str(round(intercept,2))\n",
    "plt.scatter(x_values,y_values)\n",
    "plt.plot(x_values,regress_values,\"r-\")\n",
    "plt.annotate(line_eq,(-55,30),fontsize=15,color=\"red\")\n",
    "plt.xlabel('Latitude')\n",
    "plt.ylabel('Humidity (%)')\n",
    "plt.title(f'S. Hemisphere - Humidity (%) vs. Latitude Linear Regression ({date_converted})')\n",
    "print(f\"The r-squared is: {round(rvalue**2,2)}\")\n",
    "print(f'The correlation between mouse weight and the average tumor volume is,{round(correlation[0],2)}')\n",
    "plt.show()\n",
    "plt.savefig(\"SHemi_Humidity_vs_Lat_LReg\")"
   ]
  },
  {
   "cell_type": "markdown",
   "metadata": {},
   "source": [
    "According the r-squared generated, .01% of the variation found in the'Humidity' of cities in the S. Hemisphere, can be explained by 'Latitiude'. As for correlation (.09), there appears to be a slight (very weak) positive relationship between 'Latitude' and 'Humidity' in the \n",
    "S. Hemisphere, during this time of the year."
   ]
  },
  {
   "cell_type": "markdown",
   "metadata": {},
   "source": [
    "####  Northern Hemisphere - Cloudiness (%) vs. Latitude Linear Regression"
   ]
  },
  {
   "cell_type": "code",
   "execution_count": 178,
   "metadata": {},
   "outputs": [
    {
     "name": "stdout",
     "output_type": "stream",
     "text": [
      "The r-squared is: 0.0\n",
      "The correlation between mouse weight and the average tumor volume is, 0.0\n"
     ]
    },
    {
     "data": {
      "image/png": "[encoded data removed]",
      "text/plain": [
       "<Figure size 432x288 with 1 Axes>"
      ]
     },
     "metadata": {
      "needs_background": "light"
     },
     "output_type": "display_data"
    },
    {
     "data": {
      "text/plain": [
       "<Figure size 432x288 with 0 Axes>"
      ]
     },
     "metadata": {},
     "output_type": "display_data"
    }
   ],
   "source": [
    "# Print out the r-squared value along with the plot.\n",
    "x_values = n_hemi_df['Latitude']\n",
    "y_values = n_hemi_df['Cloudiness']\n",
    "correlation = st.pearsonr(x_values,y_values)\n",
    "(slope, intercept, rvalue, pvalue, stderr) = linregress(x_values, y_values)\n",
    "regress_values = x_values * slope + intercept\n",
    "line_eq = \"y = \" + str(round(slope,2)) + \"x + \" + str(round(intercept,2))\n",
    "plt.scatter(x_values,y_values)\n",
    "plt.plot(x_values,regress_values,\"r-\")\n",
    "plt.annotate(line_eq,(0,30),fontsize=15,color=\"red\")\n",
    "plt.xlabel('Latitude')\n",
    "plt.ylabel('Cloudiness (%)')\n",
    "plt.title(f'N. Hemisphere - Cloudiness (%) vs. Latitude Linear Regression ({date_converted})')\n",
    "print(f\"The r-squared is: {round(rvalue**2,2)}\")\n",
    "print(f'The correlation between mouse weight and the average tumor volume is, {round(correlation[0],2)}')\n",
    "plt.show()\n",
    "plt.savefig(\"NHemi_Cloudiness_vs_Lat_LReg\")"
   ]
  },
  {
   "cell_type": "markdown",
   "metadata": {},
   "source": [
    "According the r-squared generated, .0% of the variation found in 'Cloudiness' of cities in \n",
    "the N. Hemisphere, can be explained by 'Latitiude'. As for correlation (-.00), there appears to be no relationship between 'Latitude' and 'Cloudiness' in the N. Hemisphere, during this time of the year."
   ]
  },
  {
   "cell_type": "markdown",
   "metadata": {},
   "source": [
    "####  Southern Hemisphere - Cloudiness (%) vs. Latitude Linear Regression"
   ]
  },
  {
   "cell_type": "code",
   "execution_count": 179,
   "metadata": {},
   "outputs": [
    {
     "name": "stdout",
     "output_type": "stream",
     "text": [
      "The r-squared is: 0.01\n",
      "The correlation between mouse weight and the average tumor volume is, 0.09\n"
     ]
    },
    {
     "data": {
      "image/png": "[encoded data removed]",
      "text/plain": [
       "<Figure size 432x288 with 1 Axes>"
      ]
     },
     "metadata": {
      "needs_background": "light"
     },
     "output_type": "display_data"
    },
    {
     "data": {
      "text/plain": [
       "<Figure size 432x288 with 0 Axes>"
      ]
     },
     "metadata": {},
     "output_type": "display_data"
    }
   ],
   "source": [
    "# Print out the r-squared value along with the plot.\n",
    "x_values = s_hemi_df['Latitude']\n",
    "y_values = s_hemi_df['Cloudiness']\n",
    "correlation = st.pearsonr(x_values,y_values)\n",
    "(slope, intercept, rvalue, pvalue, stderr) = linregress(x_values, y_values)\n",
    "regress_values = x_values * slope + intercept\n",
    "line_eq = \"y = \" + str(round(slope,2)) + \"x + \" + str(round(intercept,2))\n",
    "plt.scatter(x_values,y_values)\n",
    "plt.plot(x_values,regress_values,\"r-\")\n",
    "plt.annotate(line_eq,(-55,60),fontsize=15,color=\"red\")\n",
    "plt.xlabel('Latitude')\n",
    "plt.ylabel('Cloudiness (%)')\n",
    "plt.title(f'S. Hemisphere - Cloudiness (%) vs. Latitude Linear Regression ({date_converted})')\n",
    "print(f\"The r-squared is: {round(rvalue**2,2)}\")\n",
    "print(f'The correlation between mouse weight and the average tumor volume is, {round(correlation[0],2)}')\n",
    "plt.show()\n",
    "plt.savefig(\"SHemi_Cloudiness_vs_Lat_LReg\")"
   ]
  },
  {
   "cell_type": "markdown",
   "metadata": {},
   "source": [
    "According the r-squared generated, .01% of the variation found in 'Cloudiness' of cities in \n",
    "the S. Hemisphere, can be explained by 'Latitiude'. As for correlation (.09), there appears to be a slight (very weak) positive relationship between 'Latitude' and 'Cloudiness' in the S. Hemisphere, during this time of the year."
   ]
  },
  {
   "cell_type": "markdown",
   "metadata": {},
   "source": [
    "####  Northern Hemisphere - Wind Speed (mph) vs. Latitude Linear Regression"
   ]
  },
  {
   "cell_type": "code",
   "execution_count": 180,
   "metadata": {},
   "outputs": [
    {
     "name": "stdout",
     "output_type": "stream",
     "text": [
      "The r-squared is: 0.0\n",
      "The correlation between mouse weight and the average tumor volume is, 0.01\n"
     ]
    },
    {
     "data": {
      "image/png": "[encoded data removed]",
      "text/plain": [
       "<Figure size 432x288 with 1 Axes>"
      ]
     },
     "metadata": {
      "needs_background": "light"
     },
     "output_type": "display_data"
    },
    {
     "data": {
      "text/plain": [
       "<Figure size 432x288 with 0 Axes>"
      ]
     },
     "metadata": {},
     "output_type": "display_data"
    }
   ],
   "source": [
    "# Print out the r-squared value along with the plot.\n",
    "x_values = n_hemi_df['Latitude']\n",
    "y_values = n_hemi_df['Imperial_Wind_Speed']\n",
    "correlation = st.pearsonr(x_values,y_values)\n",
    "(slope, intercept, rvalue, pvalue, stderr) = linregress(x_values, y_values)\n",
    "regress_values = x_values * slope + intercept\n",
    "line_eq = \"y = \" + str(round(slope,2)) + \"x + \" + str(round(intercept,2))\n",
    "plt.scatter(x_values,y_values)\n",
    "plt.plot(x_values,regress_values,\"r-\")\n",
    "plt.annotate(line_eq,(50,25),fontsize=15,color=\"red\")\n",
    "plt.xlabel('Latitude')\n",
    "plt.ylabel('Wind Speed (Mph)')\n",
    "plt.title(f'N. Hemisphere - Wind Speed (Mph) vs. Latitude Linear Regression ({date_converted})')\n",
    "print(f\"The r-squared is: {round(rvalue**2,2)}\")\n",
    "print(f'The correlation between mouse weight and the average tumor volume is, {round(correlation[0],2)}')\n",
    "plt.show()\n",
    "plt.savefig(\"NHemi_WS_vs_Lat_LReg\")"
   ]
  },
  {
   "cell_type": "markdown",
   "metadata": {},
   "source": [
    "According the r-squared generated, .0% of the variation found in 'Wind Speed' of cities in \n",
    "the N. Hemisphere, can be explained by 'Latitiude'. As for correlation (.01), there appears to be a slight (very weak) positive relationship between 'Latitude' and 'Wind Speed' in the N. Hemisphere, during this time of the year."
   ]
  },
  {
   "cell_type": "markdown",
   "metadata": {},
   "source": [
    "####  Southern Hemisphere - Wind Speed (mph) vs. Latitude Linear Regression"
   ]
  },
  {
   "cell_type": "code",
   "execution_count": 181,
   "metadata": {},
   "outputs": [
    {
     "name": "stdout",
     "output_type": "stream",
     "text": [
      "The r-squared is: 0.03\n",
      "The correlation between mouse weight and the average tumor volume is, -0.17\n"
     ]
    },
    {
     "data": {
      "image/png": "[encoded data removed]",
      "text/plain": [
       "<Figure size 432x288 with 1 Axes>"
      ]
     },
     "metadata": {
      "needs_background": "light"
     },
     "output_type": "display_data"
    },
    {
     "data": {
      "text/plain": [
       "<Figure size 432x288 with 0 Axes>"
      ]
     },
     "metadata": {},
     "output_type": "display_data"
    }
   ],
   "source": [
    "# Print out the r-squared value along with the plot.\n",
    "x_values = s_hemi_df['Latitude']\n",
    "y_values = s_hemi_df['Imperial_Wind_Speed']\n",
    "correlation = st.pearsonr(x_values,y_values)\n",
    "(slope, intercept, rvalue, pvalue, stderr) = linregress(x_values, y_values)\n",
    "regress_values = x_values * slope + intercept\n",
    "line_eq = \"y = \" + str(round(slope,2)) + \"x + \" + str(round(intercept,2))\n",
    "plt.scatter(x_values,y_values)\n",
    "plt.plot(x_values,regress_values,\"r-\")\n",
    "plt.annotate(line_eq,(-55,25),fontsize=15,color=\"red\")\n",
    "plt.xlabel('Latitude')\n",
    "plt.ylabel('Wind Speed (Mph)')\n",
    "plt.title(f'S. Hemisphere - Wind Speed (Mph) vs. Latitude Linear Regression ({date_converted})')\n",
    "print(f\"The r-squared is: {round(rvalue**2,2)}\")\n",
    "print(f'The correlation between mouse weight and the average tumor volume is, {round(correlation[0],2)}')\n",
    "plt.show()\n",
    "plt.savefig(\"SHemi_WS_vs_Lat_LReg\")"
   ]
  },
  {
   "cell_type": "markdown",
   "metadata": {},
   "source": [
    "According the r-squared generated, .03% of the variation found in 'Wind Speed' of cities in \n",
    "the S. Hemisphere, can be explained by 'Latitiude'. As for correlation (.01), there appears to be a slight (very weak) inverse relationship between 'Latitude' and 'Wind Speed' in the S. Hemisphere, during this time of the year."
   ]
  }
 ],
 "metadata": {
  "anaconda-cloud": {},
  "kernel_info": {
   "name": "python3"
  },
  "kernelspec": {
   "display_name": "Python 3",
   "language": "python",
   "name": "python3"
  },
  "language_info": {
   "codemirror_mode": {
    "name": "ipython",
    "version": 3
   },
   "file_extension": ".py",
   "mimetype": "text/x-python",
   "name": "python",
   "nbconvert_exporter": "python",
   "pygments_lexer": "ipython3",
   "version": "3.8.8"
  },
  "latex_envs": {
   "LaTeX_envs_menu_present": true,
   "autoclose": false,
   "autocomplete": true,
   "bibliofile": "biblio.bib",
   "cite_by": "apalike",
   "current_citInitial": 1,
   "eqLabelWithNumbers": true,
   "eqNumInitial": 1,
   "hotkeys": {
    "equation": "Ctrl-E",
    "itemize": "Ctrl-I"
   },
   "labels_anchors": false,
   "latex_user_defs": false,
   "report_style_numbering": false,
   "user_envs_cfg": false
  },
  "nteract": {
   "version": "0.12.3"
  }
 },
 "nbformat": 4,
 "nbformat_minor": 2
}
